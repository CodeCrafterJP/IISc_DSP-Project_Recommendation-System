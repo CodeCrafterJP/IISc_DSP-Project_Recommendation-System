{
  "cells": [
    {
      "cell_type": "markdown",
      "source": [
        "# Collaborative Filtering - User Based"
      ],
      "metadata": {
        "id": "-YiCHckvyeyJ"
      }
    },
    {
      "cell_type": "code",
      "execution_count": 1,
      "metadata": {
        "colab": {
          "base_uri": "https://localhost:8080/"
        },
        "collapsed": true,
        "id": "pIicK1F171kd",
        "outputId": "3e03e43b-8a19-42c4-df46-73ba5738a3d6"
      },
      "outputs": [
        {
          "output_type": "stream",
          "name": "stdout",
          "text": [
            "Requirement already satisfied: datasets in /usr/local/lib/python3.10/dist-packages (3.1.0)\n",
            "Requirement already satisfied: filelock in /usr/local/lib/python3.10/dist-packages (from datasets) (3.16.1)\n",
            "Requirement already satisfied: numpy>=1.17 in /usr/local/lib/python3.10/dist-packages (from datasets) (1.26.4)\n",
            "Requirement already satisfied: pyarrow>=15.0.0 in /usr/local/lib/python3.10/dist-packages (from datasets) (17.0.0)\n",
            "Requirement already satisfied: dill<0.3.9,>=0.3.0 in /usr/local/lib/python3.10/dist-packages (from datasets) (0.3.8)\n",
            "Requirement already satisfied: pandas in /usr/local/lib/python3.10/dist-packages (from datasets) (2.2.2)\n",
            "Requirement already satisfied: requests>=2.32.2 in /usr/local/lib/python3.10/dist-packages (from datasets) (2.32.3)\n",
            "Requirement already satisfied: tqdm>=4.66.3 in /usr/local/lib/python3.10/dist-packages (from datasets) (4.66.6)\n",
            "Requirement already satisfied: xxhash in /usr/local/lib/python3.10/dist-packages (from datasets) (3.5.0)\n",
            "Requirement already satisfied: multiprocess<0.70.17 in /usr/local/lib/python3.10/dist-packages (from datasets) (0.70.16)\n",
            "Requirement already satisfied: fsspec<=2024.9.0,>=2023.1.0 in /usr/local/lib/python3.10/dist-packages (from fsspec[http]<=2024.9.0,>=2023.1.0->datasets) (2024.9.0)\n",
            "Requirement already satisfied: aiohttp in /usr/local/lib/python3.10/dist-packages (from datasets) (3.11.2)\n",
            "Requirement already satisfied: huggingface-hub>=0.23.0 in /usr/local/lib/python3.10/dist-packages (from datasets) (0.26.2)\n",
            "Requirement already satisfied: packaging in /usr/local/lib/python3.10/dist-packages (from datasets) (24.2)\n",
            "Requirement already satisfied: pyyaml>=5.1 in /usr/local/lib/python3.10/dist-packages (from datasets) (6.0.2)\n",
            "Requirement already satisfied: aiohappyeyeballs>=2.3.0 in /usr/local/lib/python3.10/dist-packages (from aiohttp->datasets) (2.4.3)\n",
            "Requirement already satisfied: aiosignal>=1.1.2 in /usr/local/lib/python3.10/dist-packages (from aiohttp->datasets) (1.3.1)\n",
            "Requirement already satisfied: attrs>=17.3.0 in /usr/local/lib/python3.10/dist-packages (from aiohttp->datasets) (24.2.0)\n",
            "Requirement already satisfied: frozenlist>=1.1.1 in /usr/local/lib/python3.10/dist-packages (from aiohttp->datasets) (1.5.0)\n",
            "Requirement already satisfied: multidict<7.0,>=4.5 in /usr/local/lib/python3.10/dist-packages (from aiohttp->datasets) (6.1.0)\n",
            "Requirement already satisfied: propcache>=0.2.0 in /usr/local/lib/python3.10/dist-packages (from aiohttp->datasets) (0.2.0)\n",
            "Requirement already satisfied: yarl<2.0,>=1.17.0 in /usr/local/lib/python3.10/dist-packages (from aiohttp->datasets) (1.17.2)\n",
            "Requirement already satisfied: async-timeout<6.0,>=4.0 in /usr/local/lib/python3.10/dist-packages (from aiohttp->datasets) (4.0.3)\n",
            "Requirement already satisfied: typing-extensions>=3.7.4.3 in /usr/local/lib/python3.10/dist-packages (from huggingface-hub>=0.23.0->datasets) (4.12.2)\n",
            "Requirement already satisfied: charset-normalizer<4,>=2 in /usr/local/lib/python3.10/dist-packages (from requests>=2.32.2->datasets) (3.4.0)\n",
            "Requirement already satisfied: idna<4,>=2.5 in /usr/local/lib/python3.10/dist-packages (from requests>=2.32.2->datasets) (3.10)\n",
            "Requirement already satisfied: urllib3<3,>=1.21.1 in /usr/local/lib/python3.10/dist-packages (from requests>=2.32.2->datasets) (2.2.3)\n",
            "Requirement already satisfied: certifi>=2017.4.17 in /usr/local/lib/python3.10/dist-packages (from requests>=2.32.2->datasets) (2024.8.30)\n",
            "Requirement already satisfied: python-dateutil>=2.8.2 in /usr/local/lib/python3.10/dist-packages (from pandas->datasets) (2.8.2)\n",
            "Requirement already satisfied: pytz>=2020.1 in /usr/local/lib/python3.10/dist-packages (from pandas->datasets) (2024.2)\n",
            "Requirement already satisfied: tzdata>=2022.7 in /usr/local/lib/python3.10/dist-packages (from pandas->datasets) (2024.2)\n",
            "Requirement already satisfied: six>=1.5 in /usr/local/lib/python3.10/dist-packages (from python-dateutil>=2.8.2->pandas->datasets) (1.16.0)\n"
          ]
        }
      ],
      "source": [
        "!pip install datasets"
      ]
    },
    {
      "cell_type": "code",
      "execution_count": 2,
      "metadata": {
        "colab": {
          "base_uri": "https://localhost:8080/"
        },
        "id": "iHNnOYL08c2K",
        "outputId": "9ad15d07-8361-4620-dd4e-c156b2ed8698"
      },
      "outputs": [
        {
          "output_type": "stream",
          "name": "stdout",
          "text": [
            "Requirement already satisfied: pandas in /usr/local/lib/python3.10/dist-packages (2.2.2)\n",
            "Requirement already satisfied: requests in /usr/local/lib/python3.10/dist-packages (2.32.3)\n",
            "Requirement already satisfied: onedrivedownloader in /usr/local/lib/python3.10/dist-packages (1.1.3)\n",
            "Requirement already satisfied: numpy>=1.22.4 in /usr/local/lib/python3.10/dist-packages (from pandas) (1.26.4)\n",
            "Requirement already satisfied: python-dateutil>=2.8.2 in /usr/local/lib/python3.10/dist-packages (from pandas) (2.8.2)\n",
            "Requirement already satisfied: pytz>=2020.1 in /usr/local/lib/python3.10/dist-packages (from pandas) (2024.2)\n",
            "Requirement already satisfied: tzdata>=2022.7 in /usr/local/lib/python3.10/dist-packages (from pandas) (2024.2)\n",
            "Requirement already satisfied: charset-normalizer<4,>=2 in /usr/local/lib/python3.10/dist-packages (from requests) (3.4.0)\n",
            "Requirement already satisfied: idna<4,>=2.5 in /usr/local/lib/python3.10/dist-packages (from requests) (3.10)\n",
            "Requirement already satisfied: urllib3<3,>=1.21.1 in /usr/local/lib/python3.10/dist-packages (from requests) (2.2.3)\n",
            "Requirement already satisfied: certifi>=2017.4.17 in /usr/local/lib/python3.10/dist-packages (from requests) (2024.8.30)\n",
            "Requirement already satisfied: tqdm in /usr/local/lib/python3.10/dist-packages (from onedrivedownloader) (4.66.6)\n",
            "Requirement already satisfied: six>=1.5 in /usr/local/lib/python3.10/dist-packages (from python-dateutil>=2.8.2->pandas) (1.16.0)\n"
          ]
        }
      ],
      "source": [
        "!pip install pandas requests onedrivedownloader"
      ]
    },
    {
      "cell_type": "markdown",
      "metadata": {
        "id": "plES0zvNC_ld"
      },
      "source": [
        "## Step 1: Load and Inspect the Data"
      ]
    },
    {
      "cell_type": "code",
      "source": [
        "import os\n",
        "import requests\n",
        "import io\n",
        "import pandas as pd\n",
        "\n",
        "from onedrivedownloader import download\n",
        "\n",
        "dataset_file_path = \"../Dataset/\"\n",
        "dataset_file_name = \"filtered_user_rating.csv\"\n",
        "file_path = os.path.join(dataset_file_path, dataset_file_name)\n",
        "\n",
        "if not os.path.isfile(file_path):\n",
        "  print(f\"Dataset not found at {dataset_file_path}, downloading from OneDrive...\")\n",
        "\n",
        "  # Replace with your direct OneDrive link for the csv file\n",
        "  onedrive_link = \"https://indianinstituteofscience-my.sharepoint.com/:x:/g/personal/rishavg_iisc_ac_in/ET-n21kcA3tIh-n2BjHvLjMBWI-sTFpE0O6zdUDLokuajQ?e=JZ4NjZ\"\n",
        "\n",
        "  #download(onedrive_link, filename=\"filtered_user_rating.csv\")\n",
        "  download(onedrive_link, filename=os.path.join(dataset_file_path, dataset_file_name))\n",
        "  print(\"Dataset download completed...\")\n",
        "else:\n",
        "  print(f\"File {dataset_file_name} found at {dataset_file_path}\")\n"
      ],
      "metadata": {
        "colab": {
          "base_uri": "https://localhost:8080/"
        },
        "id": "KuaIO7wGzT2i",
        "outputId": "e8ebdc40-a4db-4f8a-e2e7-2beee9bb188a"
      },
      "execution_count": 3,
      "outputs": [
        {
          "output_type": "stream",
          "name": "stdout",
          "text": [
            "File filtered_user_rating.csv found at ../Dataset/\n"
          ]
        }
      ]
    },
    {
      "cell_type": "code",
      "execution_count": 4,
      "metadata": {
        "collapsed": true,
        "id": "tLYZvg4a8g-e"
      },
      "outputs": [],
      "source": [
        "# Read the downloaded file into a DataFrame\n",
        "import pandas as pd\n",
        "\n",
        "filtered_users_rating_df = pd.read_csv(os.path.join(dataset_file_path, dataset_file_name), sep=',', on_bad_lines='skip')"
      ]
    },
    {
      "cell_type": "code",
      "execution_count": 5,
      "metadata": {
        "id": "R9h1-J8QwSzO",
        "colab": {
          "base_uri": "https://localhost:8080/"
        },
        "outputId": "8bbaaeb4-2bb4-45ef-c346-5b41b05b82fa"
      },
      "outputs": [
        {
          "output_type": "stream",
          "name": "stdout",
          "text": [
            "<class 'pandas.core.frame.DataFrame'>\n",
            "RangeIndex: 203540 entries, 0 to 203539\n",
            "Data columns (total 9 columns):\n",
            " #   Column           Non-Null Count   Dtype  \n",
            "---  ------           --------------   -----  \n",
            " 0   customer_id      203540 non-null  int64  \n",
            " 1   review_id        203540 non-null  object \n",
            " 2   product_id       203540 non-null  object \n",
            " 3   product_title    203540 non-null  object \n",
            " 4   star_rating      203540 non-null  float64\n",
            " 5   helpful_votes    203540 non-null  float64\n",
            " 6   total_votes      203540 non-null  float64\n",
            " 7   review_headline  203540 non-null  object \n",
            " 8   review_date      203540 non-null  object \n",
            "dtypes: float64(3), int64(1), object(5)\n",
            "memory usage: 14.0+ MB\n"
          ]
        }
      ],
      "source": [
        "filtered_users_rating_df.info()"
      ]
    },
    {
      "cell_type": "code",
      "execution_count": 6,
      "metadata": {
        "colab": {
          "base_uri": "https://localhost:8080/"
        },
        "id": "fr7Ak9BK8jnn",
        "outputId": "e51f0323-55f8-44be-914a-a4ce319b68c7"
      },
      "outputs": [
        {
          "output_type": "execute_result",
          "data": {
            "text/plain": [
              "(203540, 9)"
            ]
          },
          "metadata": {},
          "execution_count": 6
        }
      ],
      "source": [
        "filtered_users_rating_df.shape"
      ]
    },
    {
      "cell_type": "markdown",
      "metadata": {
        "id": "s5SPyVZEDGEf"
      },
      "source": [
        "\n",
        "## Step 2: Data Cleaning and Preprocessing"
      ]
    },
    {
      "cell_type": "markdown",
      "metadata": {
        "id": "m8AvY8SvDiDk"
      },
      "source": [
        "Step 2.1: Drop na"
      ]
    },
    {
      "cell_type": "code",
      "execution_count": 7,
      "metadata": {
        "colab": {
          "base_uri": "https://localhost:8080/"
        },
        "id": "x1q_6f2aDvOa",
        "outputId": "7bc63267-a2a1-42b8-deca-908bf2004064"
      },
      "outputs": [
        {
          "output_type": "execute_result",
          "data": {
            "text/plain": [
              "(203540, 9)"
            ]
          },
          "metadata": {},
          "execution_count": 7
        }
      ],
      "source": [
        "# Drop Rows with Any Missing Values\n",
        "filtered_users_rating_df.dropna(inplace=True)\n",
        "\n",
        "filtered_users_rating_df.shape"
      ]
    },
    {
      "cell_type": "markdown",
      "metadata": {
        "id": "WfeeItAUDaaV"
      },
      "source": [
        "Step 2.2: Filter customer with rating greater than 3 and have atleast on one helpful upvote"
      ]
    },
    {
      "cell_type": "code",
      "execution_count": 8,
      "metadata": {
        "id": "EDx7GETY8nBl"
      },
      "outputs": [],
      "source": [
        "# The filter dataset have already consider this logic of filter in pre-processing step\n",
        "# - Removed the review records associated with cusomter with rating counts < 3\n",
        "# - Removed the review with no helpful upvote"
      ]
    },
    {
      "cell_type": "markdown",
      "metadata": {
        "id": "WDNK8Bf1LE6R"
      },
      "source": [
        "## Step 3: Visuale analysis using a Utility Matrix (i.e. Pivot Table)"
      ]
    },
    {
      "cell_type": "markdown",
      "source": [
        "Distinct customer id from filtered_users_rating_df"
      ],
      "metadata": {
        "id": "RyiMQCkg6a8-"
      }
    },
    {
      "cell_type": "code",
      "execution_count": 9,
      "metadata": {
        "colab": {
          "base_uri": "https://localhost:8080/"
        },
        "id": "_pjim_yyNn-4",
        "outputId": "3696df50-2bc6-4a73-c31f-b014cbbd8c88"
      },
      "outputs": [
        {
          "output_type": "execute_result",
          "data": {
            "text/plain": [
              "(81797,)"
            ]
          },
          "metadata": {},
          "execution_count": 9
        }
      ],
      "source": [
        "distinct_customer_ids = filtered_users_rating_df['customer_id'].unique()\n",
        "distinct_customer_ids.shape"
      ]
    },
    {
      "cell_type": "markdown",
      "source": [
        "Distinct product id from filtered_users_rating_df"
      ],
      "metadata": {
        "id": "cNQ-xDN46fpx"
      }
    },
    {
      "cell_type": "code",
      "execution_count": 10,
      "metadata": {
        "colab": {
          "base_uri": "https://localhost:8080/"
        },
        "id": "CrhtH0noNcJH",
        "outputId": "cbf0adef-2ba4-40c6-aa34-0107e77a302a"
      },
      "outputs": [
        {
          "output_type": "execute_result",
          "data": {
            "text/plain": [
              "(89507,)"
            ]
          },
          "metadata": {},
          "execution_count": 10
        }
      ],
      "source": [
        "distinct_product_ids = filtered_users_rating_df['product_id'].unique()\n",
        "distinct_product_ids.shape"
      ]
    },
    {
      "cell_type": "code",
      "execution_count": 11,
      "metadata": {
        "id": "PRMP4DYYMMCn",
        "colab": {
          "base_uri": "https://localhost:8080/"
        },
        "outputId": "9f7c67cf-ba50-48e0-c3b0-9341f654c087"
      },
      "outputs": [
        {
          "output_type": "execute_result",
          "data": {
            "text/plain": [
              "(25, 25)"
            ]
          },
          "metadata": {},
          "execution_count": 11
        }
      ],
      "source": [
        "# Create a df using a random mix of 25 records from filtered_users_rating_df\n",
        "\n",
        "import pandas as pd\n",
        "import numpy as np\n",
        "\n",
        "# Sample 25 records randomly from filtered_users_rating_df for creating the pivot table\n",
        "df_sample = filtered_users_rating_df.sample(n=25, random_state=42)\n",
        "utility_matrix = df_sample.pivot_table(index='customer_id', columns='product_title', values='star_rating').fillna(0)\n",
        "utility_matrix.shape\n"
      ]
    },
    {
      "cell_type": "code",
      "source": [
        "import matplotlib.pyplot as plt\n",
        "import seaborn as sns\n",
        "\n",
        "# Assuming 'utility_matrix' is already defined from the previous code\n",
        "\n",
        "def shorten_product_name(name):\n",
        "    if len(name) > 15:\n",
        "        return name[:12] + \"...\"\n",
        "    return name\n",
        "\n",
        "utility_matrix_shortened = utility_matrix.rename(columns=shorten_product_name)\n",
        "\n",
        "plt.figure(figsize=(12, 8))\n",
        "sns.heatmap(utility_matrix_shortened[utility_matrix_shortened > 0], annot=True, fmt=\".0f\", cmap=\"YlGnBu\", linewidths=.5) # Use a different colormap\n",
        "plt.title(\"Customer Ratings for Products\")\n",
        "plt.xlabel(\"Product Title\")\n",
        "plt.ylabel(\"Customer ID\")\n",
        "plt.xticks(rotation=45, ha=\"right\") # Rotate x-axis labels for better readability\n",
        "plt.tight_layout()\n",
        "plt.show()"
      ],
      "metadata": {
        "colab": {
          "base_uri": "https://localhost:8080/",
          "height": 604
        },
        "id": "Njo5eFT77VKj",
        "outputId": "07ec387f-4888-4263-ddf3-30111de2db17"
      },
      "execution_count": 17,
      "outputs": [
        {
          "output_type": "display_data",
          "data": {
            "text/plain": [
              "<Figure size 1200x800 with 2 Axes>"
            ],
            "image/png": "[encoded data removed]"
          },
          "metadata": {}
        }
      ]
    },
    {
      "cell_type": "markdown",
      "metadata": {
        "id": "C9Mk2Gu1D8e_"
      },
      "source": [
        "## Step 4: Choosing a Recommendation Strategy and model/algorithm\n",
        "\n",
        "### Step 4.1: Choosing a Recommendation Strategy\n",
        "Given the data, we can apply different recommendation approaches:\n",
        "\n",
        "1.   **Collaborative Filtering**: Recommend products to customers based on other\n",
        "customers with similar behavior (rating patterns).\n",
        "2.   **Content-Based Filtering**: Recommend products based on product features like product_category and star_rating.\n",
        "\n",
        "3.   **Hybrid Approach**: Combine both approaches to recommend products based on customer similarity and product similarity.\n",
        "\n",
        "\n",
        "\n",
        "> We will be focusing on \"Collaborative filtering\" as Recommendastion strategy.\n",
        "\n",
        "\n",
        "\n",
        "\n",
        "\n"
      ]
    },
    {
      "cell_type": "markdown",
      "metadata": {
        "id": "92PVYrlwLRnu"
      },
      "source": [
        "## Step 5: Implementing Collaborative Filtering using SVD (Matrix Factorization)\n",
        "\n",
        "1.   Decompose the Matrix: SVD factorizes the matrix into user and item matrices.\n",
        "\n",
        "2.   Reconstruct Ratings: This step estimates ratings for unrated items by multiplying the user and item matrices.\n",
        "\n"
      ]
    },
    {
      "cell_type": "code",
      "execution_count": 13,
      "metadata": {
        "colab": {
          "base_uri": "https://localhost:8080/"
        },
        "id": "zoju5jDvEoc5",
        "outputId": "35c39281-7c2e-4ad8-a2a5-d7cb440796c8"
      },
      "outputs": [
        {
          "output_type": "stream",
          "name": "stdout",
          "text": [
            "Requirement already satisfied: scikit-surprise in /usr/local/lib/python3.10/dist-packages (1.1.4)\n",
            "Requirement already satisfied: joblib>=1.2.0 in /usr/local/lib/python3.10/dist-packages (from scikit-surprise) (1.4.2)\n",
            "Requirement already satisfied: numpy>=1.19.5 in /usr/local/lib/python3.10/dist-packages (from scikit-surprise) (1.26.4)\n",
            "Requirement already satisfied: scipy>=1.6.0 in /usr/local/lib/python3.10/dist-packages (from scikit-surprise) (1.13.1)\n"
          ]
        }
      ],
      "source": [
        "!pip install scikit-surprise # Install the necessary package"
      ]
    },
    {
      "cell_type": "code",
      "execution_count": 18,
      "metadata": {
        "colab": {
          "base_uri": "https://localhost:8080/"
        },
        "id": "gtww93lPCw17",
        "outputId": "e05b0fb4-e43a-457f-f0dd-7a068bb57657"
      },
      "outputs": [
        {
          "output_type": "stream",
          "name": "stdout",
          "text": [
            "RMSE: 0.9147\n"
          ]
        },
        {
          "output_type": "execute_result",
          "data": {
            "text/plain": [
              "0.914708239972548"
            ]
          },
          "metadata": {},
          "execution_count": 18
        }
      ],
      "source": [
        "from surprise import SVD, Dataset, Reader\n",
        "from surprise.model_selection import train_test_split\n",
        "from surprise import accuracy\n",
        "\n",
        "# Load data for Surprise\n",
        "reader = Reader(rating_scale=(1, 5))\n",
        "data = Dataset.load_from_df(filtered_users_rating_df[['customer_id', 'product_id', 'star_rating']], reader)\n",
        "\n",
        "# Split data\n",
        "trainset, testset = train_test_split(data, test_size=0.3)\n",
        "\n",
        "# Train model\n",
        "model = SVD()\n",
        "model.fit(trainset)\n",
        "\n",
        "# Test model\n",
        "predictions = model.test(testset)\n",
        "accuracy.rmse(predictions)\n"
      ]
    },
    {
      "cell_type": "markdown",
      "source": [
        "### Step 5.2: Choosing a alternative model/algorithm if any (via hyperparamter tuning)\n",
        "\n",
        "Given the data and problem statement, we can apply different models:\n",
        "\n",
        "1. SVD:\n",
        "  - Decomposes rating matrix into latent factors representing user and item features.\n",
        "  - Generally more accurate, especially for dense data.\n",
        "  - Captures fine-grained preferences.\n",
        "  - Computationally demanding for large data.\n",
        "  - Less interpretable latent factors.\n",
        "  - More sensitive to cold start problem.\n",
        "\n",
        "2. CoClustering:\n",
        "\n",
        "  - Clusters users and items based on rating patterns.\n",
        "  - Efficient for large, sparse data.\n",
        "  - Handles cold start problem well.\n",
        "  - Interpretable clusters.\n",
        "  - May not capture fine-grained preferences.\n",
        "\n",
        "\n",
        "\n",
        "> We will use hyperparameter tuning to choose the best model.\n",
        "\n",
        "\n",
        "\n"
      ],
      "metadata": {
        "id": "Sy_l0X-kLCoz"
      }
    },
    {
      "cell_type": "code",
      "source": [
        "from surprise.model_selection import RandomizedSearchCV\n",
        "from surprise import SVD, Dataset, Reader, accuracy, KNNBasic, KNNWithMeans, KNNWithZScore, CoClustering\n",
        "from surprise.model_selection import train_test_split\n",
        "\n",
        "# # Reduce the size of the data\n",
        "# reduced_df = filtered_users_rating_df.sample(frac=0.1, random_state=42)  # Use a smaller fraction if needed\n",
        "\n",
        "# # Load data for Surprise using the reduced DataFrame\n",
        "# reader = Reader(rating_scale=(1, 5))\n",
        "# data = Dataset.load_from_df(reduced_df[['customer_id', 'product_id', 'star_rating']], reader)\n",
        "\n",
        "# # Split data\n",
        "# trainset, testset = train_test_split(data, test_size=0.3)\n",
        "\n",
        "# # ... (rest of your code for hyperparameter tuning and training)\n",
        "\n",
        "algorithms = {\n",
        "    \"SVD\": {\n",
        "        \"class\": SVD,\n",
        "        \"param_grid\": {\"n_factors\": [50, 100, 150], \"n_epochs\": [20, 30], \"lr_all\": [0.005, 0.01], \"reg_all\": [0.02, 0.1]}\n",
        "    },\n",
        "    \"CoClustering\": {\n",
        "        \"class\": CoClustering,\n",
        "        \"param_grid\": {\"n_cltr_u\": [2, 3, 4], \"n_cltr_i\": [2, 3, 4], \"n_epochs\": [20, 30]}\n",
        "    },\n",
        "}\n",
        "\n",
        "# Perform RandomizedSearchCV for each algorithm\n",
        "best_rmse = float('inf')\n",
        "best_algorithm = None\n",
        "best_params = None\n",
        "\n",
        "for algorithm_name, algorithm_data in algorithms.items():\n",
        "    algorithm_class = algorithm_data[\"class\"]\n",
        "    param_grid = algorithm_data[\"param_grid\"]\n",
        "\n",
        "    rs = RandomizedSearchCV(algorithm_class, param_grid, measures=['rmse'], cv=3, n_iter=10, random_state=42)\n",
        "    rs.fit(data)\n",
        "\n",
        "    print(f\"Algorithm: {algorithm_name}, Best RMSE: {rs.best_score['rmse']}, Best Params: {rs.best_params['rmse']}\")\n",
        "\n",
        "    if rs.best_score['rmse'] < best_rmse:\n",
        "        best_rmse = rs.best_score['rmse']\n",
        "        best_algorithm = algorithm_class\n",
        "        best_params = rs.best_params['rmse']\n",
        "\n",
        "# Train the best model on the training set\n",
        "best_model = best_algorithm(**best_params)\n",
        "best_model.fit(trainset)\n",
        "\n",
        "# Test the best model on the test set\n",
        "predictions = best_model.test(testset)\n",
        "accuracy.rmse(predictions)"
      ],
      "metadata": {
        "colab": {
          "base_uri": "https://localhost:8080/"
        },
        "collapsed": true,
        "id": "hcNuZmFgIHFb",
        "outputId": "402f318b-5b48-4a76-cc32-e9f73bfae0d1"
      },
      "execution_count": 33,
      "outputs": [
        {
          "output_type": "stream",
          "name": "stdout",
          "text": [
            "Algorithm: SVD, Best RMSE: 0.9084827573737281, Best Params: {'n_factors': 150, 'n_epochs': 30, 'lr_all': 0.01, 'reg_all': 0.02}\n",
            "Algorithm: CoClustering, Best RMSE: 1.027218592994043, Best Params: {'n_cltr_u': 3, 'n_cltr_i': 4, 'n_epochs': 30}\n",
            "RMSE: 0.9039\n"
          ]
        },
        {
          "output_type": "execute_result",
          "data": {
            "text/plain": [
              "0.9038589841145902"
            ]
          },
          "metadata": {},
          "execution_count": 33
        }
      ]
    },
    {
      "cell_type": "code",
      "source": [
        "best_algorithm"
      ],
      "metadata": {
        "colab": {
          "base_uri": "https://localhost:8080/"
        },
        "id": "gk-HCLWPKBUc",
        "outputId": "6327c8c3-2e97-411a-e9be-defc74c4424c"
      },
      "execution_count": 34,
      "outputs": [
        {
          "output_type": "execute_result",
          "data": {
            "text/plain": [
              "surprise.prediction_algorithms.matrix_factorization.SVD"
            ]
          },
          "metadata": {},
          "execution_count": 34
        }
      ]
    },
    {
      "cell_type": "markdown",
      "metadata": {
        "id": "-WvAzpI9FN6M"
      },
      "source": [
        "## Step 6: Making Recommendations"
      ]
    },
    {
      "cell_type": "code",
      "execution_count": 28,
      "metadata": {
        "id": "H8LoafIJRIHl"
      },
      "outputs": [],
      "source": [
        "# Get a list of all product IDs\n",
        "all_product_ids = filtered_users_rating_df['product_id'].unique()"
      ]
    },
    {
      "cell_type": "code",
      "execution_count": 29,
      "metadata": {
        "id": "3K4dROUSFMtH"
      },
      "outputs": [],
      "source": [
        "# Function to recommend top-N products\n",
        "def recommend_products(customer_id, model=best_model, all_product_ids=all_product_ids, df=filtered_users_rating_df, n=10):\n",
        "    # Predict ratings for each product not yet rated by this customer\n",
        "    unrated_products = [pid for pid in all_product_ids if pid not in df[df['customer_id'] == customer_id]['product_id'].values]\n",
        "    predictions = [model.predict(customer_id, pid) for pid in unrated_products]\n",
        "\n",
        "    # Sort predictions by estimated rating\n",
        "    top_n = sorted(predictions, key=lambda x: x.est, reverse=True)[:n]\n",
        "\n",
        "    # Return the top N recommended product IDs\n",
        "    recommended_product_ids = [pred.iid for pred in top_n]\n",
        "\n",
        "    # Map product IDs to titles (assuming you have a DataFrame with product IDs and titles)\n",
        "    recommended_products_with_titles = []\n",
        "    for product_id in recommended_product_ids:\n",
        "        product_title = df[df['product_id'] == product_id]['product_title'].iloc[0] if not df[df['product_id'] == product_id]['product_title'].empty else \"Product Title Not Found\"\n",
        "        recommended_products_with_titles.append(product_title)\n",
        "\n",
        "    return recommended_products_with_titles"
      ]
    },
    {
      "cell_type": "code",
      "source": [
        "# Select random 10 customers from testset to be used for testing the model prediction.\n",
        "# Also provide then as drop down option to select and run the predict method. Don't trim the label for the dropdown\n",
        "\n",
        "import random\n",
        "import ipywidgets as widgets\n",
        "from IPython.display import display\n",
        "\n",
        "# Number of customers to randomly select from the testset\n",
        "num_customers_to_select = 10\n",
        "\n",
        "# Create a list of customer IDs from the testset\n",
        "customer_ids_in_testset = [uid for (uid, iid, r) in testset]\n",
        "\n",
        "# Randomly select customer IDs\n",
        "random_customers = random.sample(customer_ids_in_testset, num_customers_to_select)\n",
        "\n",
        "# Create a dropdown widget\n",
        "customer_dropdown = widgets.Dropdown(\n",
        "    options=random_customers,\n",
        "    description='Select Customer ID:',\n",
        "    disabled=False,\n",
        ")\n",
        "\n",
        "# Create a dropdown widget for top_n\n",
        "top_n_dropdown = widgets.Dropdown(\n",
        "    options=[3, 5, 7, 10],\n",
        "    description='Select Top N:',\n",
        "    disabled=False,\n",
        ")\n",
        "\n",
        "\n",
        "# Output widget for recommendations\n",
        "output = widgets.Output()\n",
        "\n",
        "# Create a submit button\n",
        "submit_button = widgets.Button(description=\"Submit\")\n",
        "\n",
        "def on_submit_clicked(b):\n",
        "    with output:\n",
        "        output.clear_output()\n",
        "        selected_customer_id = customer_dropdown.value\n",
        "        selected_top_n = top_n_dropdown.value\n",
        "\n",
        "        print(f\"Selected Customer ID: {selected_customer_id}\")\n",
        "        print(f\"Selected Top N: {selected_top_n}\")\n",
        "        print(f\"Finding the recomendations..\")\n",
        "\n",
        "        recommendations = recommend_products(customer_id=selected_customer_id, n=selected_top_n)\n",
        "\n",
        "        print(f\"\\nTop {selected_top_n} recommended products for user {selected_customer_id}:\")\n",
        "        for product in recommendations:\n",
        "            print(product)\n",
        "\n",
        "submit_button.on_click(on_submit_clicked)\n",
        "\n",
        "\n",
        "# Create a horizontal box to place the dropdown widgets side by side\n",
        "from ipywidgets import HBox\n",
        "\n",
        "\n",
        "# Create a horizontal box for the dropdowns\n",
        "hbox = HBox([customer_dropdown, top_n_dropdown, submit_button])\n",
        "\n",
        "# Display the horizontal box and the button\n",
        "display(hbox)\n",
        "display(output)"
      ],
      "metadata": {
        "colab": {
          "base_uri": "https://localhost:8080/",
          "height": 174,
          "referenced_widgets": [
            "9e5602e8ba8041cabdca6531c92b2a43",
            "e398858c9abf4f1dbc08b29f9fa130a6",
            "b2a15043ea1e4b6aa82a74faee703d14",
            "173c5dc5abb9497bb0c20e58b93029df",
            "62b7b4d3afe14b788af6f101345696c0",
            "dadb796d8a7a48118e2f1c61d865e635",
            "e3530489ebf4449d83f723c91809eaa0",
            "686e268c3b8f4e58a88353954a8329a8",
            "e6a76ea7b3b94aacaea2637a65d8a2c5",
            "5a78c8b2910746c181d76fe1b2d1ff86",
            "e8a21166f3f04aee8cfe0abbb3eb97a0",
            "56317371d7ea4e15a630a6dad44494b8",
            "bc666a3f98014aeea8937973d98117eb"
          ]
        },
        "id": "7hTiPvpvQyoM",
        "outputId": "0ed1b771-02be-4c72-d260-affe303d3b49"
      },
      "execution_count": 40,
      "outputs": [
        {
          "output_type": "display_data",
          "data": {
            "text/plain": [
              "HBox(children=(Dropdown(description='Select Customer ID:', options=(52864710, 34860959, 38539376, 44773194, 51…"
            ],
            "application/vnd.jupyter.widget-view+json": {
              "version_major": 2,
              "version_minor": 0,
              "model_id": "9e5602e8ba8041cabdca6531c92b2a43"
            }
          },
          "metadata": {}
        },
        {
          "output_type": "display_data",
          "data": {
            "text/plain": [
              "Output()"
            ],
            "application/vnd.jupyter.widget-view+json": {
              "version_major": 2,
              "version_minor": 0,
              "model_id": "56317371d7ea4e15a630a6dad44494b8"
            }
          },
          "metadata": {}
        }
      ]
    }
  ],
  "metadata": {
    "accelerator": "GPU",
    "colab": {
      "gpuType": "T4",
      "provenance": []
    },
    "kernelspec": {
      "display_name": "Python 3",
      "name": "python3"
    },
    "language_info": {
      "name": "python"
    },
    "widgets": {
      "application/vnd.jupyter.widget-state+json": {
        "9e5602e8ba8041cabdca6531c92b2a43": {
          "model_module": "@jupyter-widgets/controls",
          "model_name": "HBoxModel",
          "model_module_version": "1.5.0",
          "state": {
            "_dom_classes": [],
            "_model_module": "@jupyter-widgets/controls",
            "_model_module_version": "1.5.0",
            "_model_name": "HBoxModel",
            "_view_count": null,
            "_view_module": "@jupyter-widgets/controls",
            "_view_module_version": "1.5.0",
            "_view_name": "HBoxView",
            "box_style": "",
            "children": [
              "IPY_MODEL_e398858c9abf4f1dbc08b29f9fa130a6",
              "IPY_MODEL_b2a15043ea1e4b6aa82a74faee703d14",
              "IPY_MODEL_173c5dc5abb9497bb0c20e58b93029df"
            ],
            "layout": "IPY_MODEL_62b7b4d3afe14b788af6f101345696c0"
          }
        },
        "e398858c9abf4f1dbc08b29f9fa130a6": {
          "model_module": "@jupyter-widgets/controls",
          "model_name": "DropdownModel",
          "model_module_version": "1.5.0",
          "state": {
            "_dom_classes": [],
            "_model_module": "@jupyter-widgets/controls",
            "_model_module_version": "1.5.0",
            "_model_name": "DropdownModel",
            "_options_labels": [
              "52864710",
              "34860959",
              "38539376",
              "44773194",
              "51641352",
              "30148687",
              "52655631",
              "49765614",
              "28907703",
              "16827850"
            ],
            "_view_count": null,
            "_view_module": "@jupyter-widgets/controls",
            "_view_module_version": "1.5.0",
            "_view_name": "DropdownView",
            "description": "Select Customer ID:",
            "description_tooltip": null,
            "disabled": false,
            "index": 0,
            "layout": "IPY_MODEL_dadb796d8a7a48118e2f1c61d865e635",
            "style": "IPY_MODEL_e3530489ebf4449d83f723c91809eaa0"
          }
        },
        "b2a15043ea1e4b6aa82a74faee703d14": {
          "model_module": "@jupyter-widgets/controls",
          "model_name": "DropdownModel",
          "model_module_version": "1.5.0",
          "state": {
            "_dom_classes": [],
            "_model_module": "@jupyter-widgets/controls",
            "_model_module_version": "1.5.0",
            "_model_name": "DropdownModel",
            "_options_labels": [
              "3",
              "5",
              "7",
              "10"
            ],
            "_view_count": null,
            "_view_module": "@jupyter-widgets/controls",
            "_view_module_version": "1.5.0",
            "_view_name": "DropdownView",
            "description": "Select Top N:",
            "description_tooltip": null,
            "disabled": false,
            "index": 0,
            "layout": "IPY_MODEL_686e268c3b8f4e58a88353954a8329a8",
            "style": "IPY_MODEL_e6a76ea7b3b94aacaea2637a65d8a2c5"
          }
        },
        "173c5dc5abb9497bb0c20e58b93029df": {
          "model_module": "@jupyter-widgets/controls",
          "model_name": "ButtonModel",
          "model_module_version": "1.5.0",
          "state": {
            "_dom_classes": [],
            "_model_module": "@jupyter-widgets/controls",
            "_model_module_version": "1.5.0",
            "_model_name": "ButtonModel",
            "_view_count": null,
            "_view_module": "@jupyter-widgets/controls",
            "_view_module_version": "1.5.0",
            "_view_name": "ButtonView",
            "button_style": "",
            "description": "Submit",
            "disabled": false,
            "icon": "",
            "layout": "IPY_MODEL_5a78c8b2910746c181d76fe1b2d1ff86",
            "style": "IPY_MODEL_e8a21166f3f04aee8cfe0abbb3eb97a0",
            "tooltip": ""
          }
        },
        "62b7b4d3afe14b788af6f101345696c0": {
          "model_module": "@jupyter-widgets/base",
          "model_name": "LayoutModel",
          "model_module_version": "1.2.0",
          "state": {
            "_model_module": "@jupyter-widgets/base",
            "_model_module_version": "1.2.0",
            "_model_name": "LayoutModel",
            "_view_count": null,
            "_view_module": "@jupyter-widgets/base",
            "_view_module_version": "1.2.0",
            "_view_name": "LayoutView",
            "align_content": null,
            "align_items": null,
            "align_self": null,
            "border": null,
            "bottom": null,
            "display": null,
            "flex": null,
            "flex_flow": null,
            "grid_area": null,
            "grid_auto_columns": null,
            "grid_auto_flow": null,
            "grid_auto_rows": null,
            "grid_column": null,
            "grid_gap": null,
            "grid_row": null,
            "grid_template_areas": null,
            "grid_template_columns": null,
            "grid_template_rows": null,
            "height": null,
            "justify_content": null,
            "justify_items": null,
            "left": null,
            "margin": null,
            "max_height": null,
            "max_width": null,
            "min_height": null,
            "min_width": null,
            "object_fit": null,
            "object_position": null,
            "order": null,
            "overflow": null,
            "overflow_x": null,
            "overflow_y": null,
            "padding": null,
            "right": null,
            "top": null,
            "visibility": null,
            "width": null
          }
        },
        "dadb796d8a7a48118e2f1c61d865e635": {
          "model_module": "@jupyter-widgets/base",
          "model_name": "LayoutModel",
          "model_module_version": "1.2.0",
          "state": {
            "_model_module": "@jupyter-widgets/base",
            "_model_module_version": "1.2.0",
            "_model_name": "LayoutModel",
            "_view_count": null,
            "_view_module": "@jupyter-widgets/base",
            "_view_module_version": "1.2.0",
            "_view_name": "LayoutView",
            "align_content": null,
            "align_items": null,
            "align_self": null,
            "border": null,
            "bottom": null,
            "display": null,
            "flex": null,
            "flex_flow": null,
            "grid_area": null,
            "grid_auto_columns": null,
            "grid_auto_flow": null,
            "grid_auto_rows": null,
            "grid_column": null,
            "grid_gap": null,
            "grid_row": null,
            "grid_template_areas": null,
            "grid_template_columns": null,
            "grid_template_rows": null,
            "height": null,
            "justify_content": null,
            "justify_items": null,
            "left": null,
            "margin": null,
            "max_height": null,
            "max_width": null,
            "min_height": null,
            "min_width": null,
            "object_fit": null,
            "object_position": null,
            "order": null,
            "overflow": null,
            "overflow_x": null,
            "overflow_y": null,
            "padding": null,
            "right": null,
            "top": null,
            "visibility": null,
            "width": null
          }
        },
        "e3530489ebf4449d83f723c91809eaa0": {
          "model_module": "@jupyter-widgets/controls",
          "model_name": "DescriptionStyleModel",
          "model_module_version": "1.5.0",
          "state": {
            "_model_module": "@jupyter-widgets/controls",
            "_model_module_version": "1.5.0",
            "_model_name": "DescriptionStyleModel",
            "_view_count": null,
            "_view_module": "@jupyter-widgets/base",
            "_view_module_version": "1.2.0",
            "_view_name": "StyleView",
            "description_width": ""
          }
        },
        "686e268c3b8f4e58a88353954a8329a8": {
          "model_module": "@jupyter-widgets/base",
          "model_name": "LayoutModel",
          "model_module_version": "1.2.0",
          "state": {
            "_model_module": "@jupyter-widgets/base",
            "_model_module_version": "1.2.0",
            "_model_name": "LayoutModel",
            "_view_count": null,
            "_view_module": "@jupyter-widgets/base",
            "_view_module_version": "1.2.0",
            "_view_name": "LayoutView",
            "align_content": null,
            "align_items": null,
            "align_self": null,
            "border": null,
            "bottom": null,
            "display": null,
            "flex": null,
            "flex_flow": null,
            "grid_area": null,
            "grid_auto_columns": null,
            "grid_auto_flow": null,
            "grid_auto_rows": null,
            "grid_column": null,
            "grid_gap": null,
            "grid_row": null,
            "grid_template_areas": null,
            "grid_template_columns": null,
            "grid_template_rows": null,
            "height": null,
            "justify_content": null,
            "justify_items": null,
            "left": null,
            "margin": null,
            "max_height": null,
            "max_width": null,
            "min_height": null,
            "min_width": null,
            "object_fit": null,
            "object_position": null,
            "order": null,
            "overflow": null,
            "overflow_x": null,
            "overflow_y": null,
            "padding": null,
            "right": null,
            "top": null,
            "visibility": null,
            "width": null
          }
        },
        "e6a76ea7b3b94aacaea2637a65d8a2c5": {
          "model_module": "@jupyter-widgets/controls",
          "model_name": "DescriptionStyleModel",
          "model_module_version": "1.5.0",
          "state": {
            "_model_module": "@jupyter-widgets/controls",
            "_model_module_version": "1.5.0",
            "_model_name": "DescriptionStyleModel",
            "_view_count": null,
            "_view_module": "@jupyter-widgets/base",
            "_view_module_version": "1.2.0",
            "_view_name": "StyleView",
            "description_width": ""
          }
        },
        "5a78c8b2910746c181d76fe1b2d1ff86": {
          "model_module": "@jupyter-widgets/base",
          "model_name": "LayoutModel",
          "model_module_version": "1.2.0",
          "state": {
            "_model_module": "@jupyter-widgets/base",
            "_model_module_version": "1.2.0",
            "_model_name": "LayoutModel",
            "_view_count": null,
            "_view_module": "@jupyter-widgets/base",
            "_view_module_version": "1.2.0",
            "_view_name": "LayoutView",
            "align_content": null,
            "align_items": null,
            "align_self": null,
            "border": null,
            "bottom": null,
            "display": null,
            "flex": null,
            "flex_flow": null,
            "grid_area": null,
            "grid_auto_columns": null,
            "grid_auto_flow": null,
            "grid_auto_rows": null,
            "grid_column": null,
            "grid_gap": null,
            "grid_row": null,
            "grid_template_areas": null,
            "grid_template_columns": null,
            "grid_template_rows": null,
            "height": null,
            "justify_content": null,
            "justify_items": null,
            "left": null,
            "margin": null,
            "max_height": null,
            "max_width": null,
            "min_height": null,
            "min_width": null,
            "object_fit": null,
            "object_position": null,
            "order": null,
            "overflow": null,
            "overflow_x": null,
            "overflow_y": null,
            "padding": null,
            "right": null,
            "top": null,
            "visibility": null,
            "width": null
          }
        },
        "e8a21166f3f04aee8cfe0abbb3eb97a0": {
          "model_module": "@jupyter-widgets/controls",
          "model_name": "ButtonStyleModel",
          "model_module_version": "1.5.0",
          "state": {
            "_model_module": "@jupyter-widgets/controls",
            "_model_module_version": "1.5.0",
            "_model_name": "ButtonStyleModel",
            "_view_count": null,
            "_view_module": "@jupyter-widgets/base",
            "_view_module_version": "1.2.0",
            "_view_name": "StyleView",
            "button_color": null,
            "font_weight": ""
          }
        },
        "56317371d7ea4e15a630a6dad44494b8": {
          "model_module": "@jupyter-widgets/output",
          "model_name": "OutputModel",
          "model_module_version": "1.0.0",
          "state": {
            "_dom_classes": [],
            "_model_module": "@jupyter-widgets/output",
            "_model_module_version": "1.0.0",
            "_model_name": "OutputModel",
            "_view_count": null,
            "_view_module": "@jupyter-widgets/output",
            "_view_module_version": "1.0.0",
            "_view_name": "OutputView",
            "layout": "IPY_MODEL_bc666a3f98014aeea8937973d98117eb",
            "msg_id": "",
            "outputs": [
              {
                "output_type": "stream",
                "name": "stdout",
                "text": [
                  "Selected Customer ID: 52864710\n",
                  "Selected Top N: 3\n"
                ]
              },
              {
                "output_type": "stream",
                "name": "stdout",
                "text": [
                  "\n",
                  "Top 3 recommended products for user 52864710:\n",
                  "Ender's Game (The Ender Quintet)\n",
                  "Catch-22\n",
                  "Sisterhood of the Traveling Pants\n"
                ]
              }
            ]
          }
        },
        "bc666a3f98014aeea8937973d98117eb": {
          "model_module": "@jupyter-widgets/base",
          "model_name": "LayoutModel",
          "model_module_version": "1.2.0",
          "state": {
            "_model_module": "@jupyter-widgets/base",
            "_model_module_version": "1.2.0",
            "_model_name": "LayoutModel",
            "_view_count": null,
            "_view_module": "@jupyter-widgets/base",
            "_view_module_version": "1.2.0",
            "_view_name": "LayoutView",
            "align_content": null,
            "align_items": null,
            "align_self": null,
            "border": null,
            "bottom": null,
            "display": null,
            "flex": null,
            "flex_flow": null,
            "grid_area": null,
            "grid_auto_columns": null,
            "grid_auto_flow": null,
            "grid_auto_rows": null,
            "grid_column": null,
            "grid_gap": null,
            "grid_row": null,
            "grid_template_areas": null,
            "grid_template_columns": null,
            "grid_template_rows": null,
            "height": null,
            "justify_content": null,
            "justify_items": null,
            "left": null,
            "margin": null,
            "max_height": null,
            "max_width": null,
            "min_height": null,
            "min_width": null,
            "object_fit": null,
            "object_position": null,
            "order": null,
            "overflow": null,
            "overflow_x": null,
            "overflow_y": null,
            "padding": null,
            "right": null,
            "top": null,
            "visibility": null,
            "width": null
          }
        }
      }
    }
  },
  "nbformat": 4,
  "nbformat_minor": 0
}