{
 "cells": [
  {
   "cell_type": "code",
   "execution_count": 8,
   "metadata": {
    "colab": {
     "base_uri": "https://localhost:8080/"
    },
    "id": "huv2bEx7M68J",
    "outputId": "967fc2e8-092a-4596-d6c2-58b85fe0752d"
   },
   "outputs": [
    {
     "name": "stdout",
     "output_type": "stream",
     "text": [
      "Collecting datasets\n",
      "  Downloading datasets-3.1.0-py3-none-any.whl.metadata (20 kB)\n",
      "Requirement already satisfied: filelock in /usr/local/lib/python3.10/dist-packages (from datasets) (3.16.1)\n",
      "Requirement already satisfied: numpy>=1.17 in /usr/local/lib/python3.10/dist-packages (from datasets) (1.26.4)\n",
      "Requirement already satisfied: pyarrow>=15.0.0 in /usr/local/lib/python3.10/dist-packages (from datasets) (17.0.0)\n",
      "Collecting dill<0.3.9,>=0.3.0 (from datasets)\n",
      "  Downloading dill-0.3.8-py3-none-any.whl.metadata (10 kB)\n",
      "Requirement already satisfied: pandas in /usr/local/lib/python3.10/dist-packages (from datasets) (2.2.2)\n",
      "Requirement already satisfied: requests>=2.32.2 in /usr/local/lib/python3.10/dist-packages (from datasets) (2.32.3)\n",
      "Requirement already satisfied: tqdm>=4.66.3 in /usr/local/lib/python3.10/dist-packages (from datasets) (4.66.6)\n",
      "Collecting xxhash (from datasets)\n",
      "  Downloading xxhash-3.5.0-cp310-cp310-manylinux_2_17_x86_64.manylinux2014_x86_64.whl.metadata (12 kB)\n",
      "Collecting multiprocess<0.70.17 (from datasets)\n",
      "  Downloading multiprocess-0.70.16-py310-none-any.whl.metadata (7.2 kB)\n",
      "Collecting fsspec<=2024.9.0,>=2023.1.0 (from fsspec[http]<=2024.9.0,>=2023.1.0->datasets)\n",
      "  Downloading fsspec-2024.9.0-py3-none-any.whl.metadata (11 kB)\n",
      "Requirement already satisfied: aiohttp in /usr/local/lib/python3.10/dist-packages (from datasets) (3.10.10)\n",
      "Requirement already satisfied: huggingface-hub>=0.23.0 in /usr/local/lib/python3.10/dist-packages (from datasets) (0.24.7)\n",
      "Requirement already satisfied: packaging in /usr/local/lib/python3.10/dist-packages (from datasets) (24.1)\n",
      "Requirement already satisfied: pyyaml>=5.1 in /usr/local/lib/python3.10/dist-packages (from datasets) (6.0.2)\n",
      "Requirement already satisfied: aiohappyeyeballs>=2.3.0 in /usr/local/lib/python3.10/dist-packages (from aiohttp->datasets) (2.4.3)\n",
      "Requirement already satisfied: aiosignal>=1.1.2 in /usr/local/lib/python3.10/dist-packages (from aiohttp->datasets) (1.3.1)\n",
      "Requirement already satisfied: attrs>=17.3.0 in /usr/local/lib/python3.10/dist-packages (from aiohttp->datasets) (24.2.0)\n",
      "Requirement already satisfied: frozenlist>=1.1.1 in /usr/local/lib/python3.10/dist-packages (from aiohttp->datasets) (1.5.0)\n",
      "Requirement already satisfied: multidict<7.0,>=4.5 in /usr/local/lib/python3.10/dist-packages (from aiohttp->datasets) (6.1.0)\n",
      "Requirement already satisfied: yarl<2.0,>=1.12.0 in /usr/local/lib/python3.10/dist-packages (from aiohttp->datasets) (1.17.0)\n",
      "Requirement already satisfied: async-timeout<5.0,>=4.0 in /usr/local/lib/python3.10/dist-packages (from aiohttp->datasets) (4.0.3)\n",
      "Requirement already satisfied: typing-extensions>=3.7.4.3 in /usr/local/lib/python3.10/dist-packages (from huggingface-hub>=0.23.0->datasets) (4.12.2)\n",
      "Requirement already satisfied: charset-normalizer<4,>=2 in /usr/local/lib/python3.10/dist-packages (from requests>=2.32.2->datasets) (3.4.0)\n",
      "Requirement already satisfied: idna<4,>=2.5 in /usr/local/lib/python3.10/dist-packages (from requests>=2.32.2->datasets) (3.10)\n",
      "Requirement already satisfied: urllib3<3,>=1.21.1 in /usr/local/lib/python3.10/dist-packages (from requests>=2.32.2->datasets) (2.2.3)\n",
      "Requirement already satisfied: certifi>=2017.4.17 in /usr/local/lib/python3.10/dist-packages (from requests>=2.32.2->datasets) (2024.8.30)\n",
      "Requirement already satisfied: python-dateutil>=2.8.2 in /usr/local/lib/python3.10/dist-packages (from pandas->datasets) (2.8.2)\n",
      "Requirement already satisfied: pytz>=2020.1 in /usr/local/lib/python3.10/dist-packages (from pandas->datasets) (2024.2)\n",
      "Requirement already satisfied: tzdata>=2022.7 in /usr/local/lib/python3.10/dist-packages (from pandas->datasets) (2024.2)\n",
      "Requirement already satisfied: six>=1.5 in /usr/local/lib/python3.10/dist-packages (from python-dateutil>=2.8.2->pandas->datasets) (1.16.0)\n",
      "Requirement already satisfied: propcache>=0.2.0 in /usr/local/lib/python3.10/dist-packages (from yarl<2.0,>=1.12.0->aiohttp->datasets) (0.2.0)\n",
      "Downloading datasets-3.1.0-py3-none-any.whl (480 kB)\n",
      "\u001b[2K   \u001b[90m━━━━━━━━━━━━━━━━━━━━━━━━━━━━━━━━━━━━━━━━\u001b[0m \u001b[32m480.6/480.6 kB\u001b[0m \u001b[31m9.1 MB/s\u001b[0m eta \u001b[36m0:00:00\u001b[0m\n",
      "\u001b[?25hDownloading dill-0.3.8-py3-none-any.whl (116 kB)\n",
      "\u001b[2K   \u001b[90m━━━━━━━━━━━━━━━━━━━━━━━━━━━━━━━━━━━━━━━━\u001b[0m \u001b[32m116.3/116.3 kB\u001b[0m \u001b[31m7.9 MB/s\u001b[0m eta \u001b[36m0:00:00\u001b[0m\n",
      "\u001b[?25hDownloading fsspec-2024.9.0-py3-none-any.whl (179 kB)\n",
      "\u001b[2K   \u001b[90m━━━━━━━━━━━━━━━━━━━━━━━━━━━━━━━━━━━━━━━━\u001b[0m \u001b[32m179.3/179.3 kB\u001b[0m \u001b[31m14.4 MB/s\u001b[0m eta \u001b[36m0:00:00\u001b[0m\n",
      "\u001b[?25hDownloading multiprocess-0.70.16-py310-none-any.whl (134 kB)\n",
      "\u001b[2K   \u001b[90m━━━━━━━━━━━━━━━━━━━━━━━━━━━━━━━━━━━━━━━━\u001b[0m \u001b[32m134.8/134.8 kB\u001b[0m \u001b[31m11.3 MB/s\u001b[0m eta \u001b[36m0:00:00\u001b[0m\n",
      "\u001b[?25hDownloading xxhash-3.5.0-cp310-cp310-manylinux_2_17_x86_64.manylinux2014_x86_64.whl (194 kB)\n",
      "\u001b[2K   \u001b[90m━━━━━━━━━━━━━━━━━━━━━━━━━━━━━━━━━━━━━━━━\u001b[0m \u001b[32m194.1/194.1 kB\u001b[0m \u001b[31m14.2 MB/s\u001b[0m eta \u001b[36m0:00:00\u001b[0m\n",
      "\u001b[?25hInstalling collected packages: xxhash, fsspec, dill, multiprocess, datasets\n",
      "  Attempting uninstall: fsspec\n",
      "    Found existing installation: fsspec 2024.10.0\n",
      "    Uninstalling fsspec-2024.10.0:\n",
      "      Successfully uninstalled fsspec-2024.10.0\n",
      "\u001b[31mERROR: pip's dependency resolver does not currently take into account all the packages that are installed. This behaviour is the source of the following dependency conflicts.\n",
      "gcsfs 2024.10.0 requires fsspec==2024.10.0, but you have fsspec 2024.9.0 which is incompatible.\u001b[0m\u001b[31m\n",
      "\u001b[0mSuccessfully installed datasets-3.1.0 dill-0.3.8 fsspec-2024.9.0 multiprocess-0.70.16 xxhash-3.5.0\n",
      "Requirement already satisfied: pandas in /usr/local/lib/python3.10/dist-packages (2.2.2)\n",
      "Requirement already satisfied: requests in /usr/local/lib/python3.10/dist-packages (2.32.3)\n",
      "Collecting onedrivedownloader\n",
      "  Downloading onedrivedownloader-1.1.3-py3-none-any.whl.metadata (2.0 kB)\n",
      "Requirement already satisfied: numpy>=1.22.4 in /usr/local/lib/python3.10/dist-packages (from pandas) (1.26.4)\n",
      "Requirement already satisfied: python-dateutil>=2.8.2 in /usr/local/lib/python3.10/dist-packages (from pandas) (2.8.2)\n",
      "Requirement already satisfied: pytz>=2020.1 in /usr/local/lib/python3.10/dist-packages (from pandas) (2024.2)\n",
      "Requirement already satisfied: tzdata>=2022.7 in /usr/local/lib/python3.10/dist-packages (from pandas) (2024.2)\n",
      "Requirement already satisfied: charset-normalizer<4,>=2 in /usr/local/lib/python3.10/dist-packages (from requests) (3.4.0)\n",
      "Requirement already satisfied: idna<4,>=2.5 in /usr/local/lib/python3.10/dist-packages (from requests) (3.10)\n",
      "Requirement already satisfied: urllib3<3,>=1.21.1 in /usr/local/lib/python3.10/dist-packages (from requests) (2.2.3)\n",
      "Requirement already satisfied: certifi>=2017.4.17 in /usr/local/lib/python3.10/dist-packages (from requests) (2024.8.30)\n",
      "Requirement already satisfied: tqdm in /usr/local/lib/python3.10/dist-packages (from onedrivedownloader) (4.66.6)\n",
      "Requirement already satisfied: six>=1.5 in /usr/local/lib/python3.10/dist-packages (from python-dateutil>=2.8.2->pandas) (1.16.0)\n",
      "Downloading onedrivedownloader-1.1.3-py3-none-any.whl (5.1 kB)\n",
      "Installing collected packages: onedrivedownloader\n",
      "Successfully installed onedrivedownloader-1.1.3\n"
     ]
    }
   ],
   "source": [
    "!pip install datasets\n",
    "!pip install pandas requests onedrivedownloader\n"
   ]
  },
  {
   "cell_type": "code",
   "execution_count": 2,
   "metadata": {
    "colab": {
     "base_uri": "https://localhost:8080/",
     "height": 36
    },
    "id": "ppWd5qAmNHyi",
    "outputId": "a78d8743-1fe6-45a6-d8b4-e8d78fc5c758"
   },
   "outputs": [
    {
     "data": {
      "text/plain": [
       "'all_users_rating.tsv'"
      ]
     },
     "execution_count": 2,
     "metadata": {},
     "output_type": "execute_result"
    }
   ],
   "source": [
    "import requests\n",
    "import io\n",
    "import pandas as pd\n",
    "\n",
    "# Import the download function instead of OneDriveDownloader class\n",
    "from onedrivedownloader import download\n",
    "\n",
    "# Main dataset is kept here\n",
    "onedrive_link = \"https://indianinstituteofscience-my.sharepoint.com/:u:/g/personal/rishavg_iisc_ac_in/Ecr2JHgh-2VBg3bYhcqFQKYBcpNLNsLEPfGNLAKfdKckfQ\"\n",
    "\n",
    "# Extract the file ID from the OneDrive link - not needed for current download method\n",
    "file_id = onedrive_link.split('/')[-1]  # Assuming the file ID is the last part of the URL\n",
    "\n",
    "# Download the file using the download function\n",
    "# filename should be provided and the file will be automatically saved, you can directly input your local path\n",
    "download(onedrive_link, filename=\"all_users_rating.tsv\")"
   ]
  },
  {
   "cell_type": "code",
   "execution_count": 3,
   "metadata": {
    "id": "w3A_xyfJJV7K"
   },
   "outputs": [],
   "source": [
    "# Read the downloaded file into a DataFrame\n",
    "import pandas as pd\n",
    "\n",
    "all_users_rating_df = pd.read_csv(\"all_users_rating.tsv\", sep='\\t', on_bad_lines='skip')"
   ]
  },
  {
   "cell_type": "code",
   "execution_count": 4,
   "metadata": {
    "colab": {
     "base_uri": "https://localhost:8080/"
    },
    "id": "qG4lSfFdMwTJ",
    "outputId": "19406fc4-26d4-4020-f152-1eb5cb3be337"
   },
   "outputs": [
    {
     "data": {
      "text/plain": [
       "(408873, 15)"
      ]
     },
     "execution_count": 4,
     "metadata": {},
     "output_type": "execute_result"
    }
   ],
   "source": [
    "all_users_rating_df.shape"
   ]
  },
  {
   "cell_type": "markdown",
   "metadata": {
    "id": "zKmKC5ilHveJ"
   },
   "source": [
    "Handling missing values:\n",
    "*   Identify missing values\n",
    "*   Remove missing values\n"
   ]
  },
  {
   "cell_type": "code",
   "execution_count": 5,
   "metadata": {
    "colab": {
     "base_uri": "https://localhost:8080/",
     "height": 555
    },
    "id": "WyFhSiM2HX6w",
    "outputId": "da8ef173-4a70-4c60-a5cc-384841b09843"
   },
   "outputs": [
    {
     "data": {
      "text/plain": [
       "marketplace           0\n",
       "customer_id           0\n",
       "review_id             0\n",
       "product_id            0\n",
       "product_parent        0\n",
       "product_title         0\n",
       "product_category      0\n",
       "star_rating           1\n",
       "helpful_votes         1\n",
       "total_votes           1\n",
       "vine                  1\n",
       "verified_purchase     1\n",
       "review_headline      23\n",
       "review_body           1\n",
       "review_date          56\n",
       "dtype: int64"
      ]
     },
     "execution_count": 5,
     "metadata": {},
     "output_type": "execute_result"
    }
   ],
   "source": [
    "all_users_rating_df.isnull().sum()"
   ]
  },
  {
   "cell_type": "code",
   "execution_count": 6,
   "metadata": {
    "colab": {
     "base_uri": "https://localhost:8080/"
    },
    "id": "iT4rh6CuJRZT",
    "outputId": "15a851ba-2c3c-44a9-ddc0-4ddf8a38e674"
   },
   "outputs": [
    {
     "data": {
      "text/plain": [
       "(408795, 15)"
      ]
     },
     "execution_count": 6,
     "metadata": {},
     "output_type": "execute_result"
    }
   ],
   "source": [
    "# Drop Rows with Any Missing Values\n",
    "all_users_rating_df.dropna(inplace=True)\n",
    "\n",
    "all_users_rating_df.shape"
   ]
  },
  {
   "cell_type": "code",
   "execution_count": 7,
   "metadata": {
    "id": "obE8zKD9axaz"
   },
   "outputs": [],
   "source": [
    "# Drop unnecessary columns\n",
    "columns_to_drop = ['vine', 'marketplace', 'verified_purchase', 'product_parent', 'review_body', 'product_category']\n",
    "all_users_rating_df = all_users_rating_df.drop(columns=columns_to_drop, errors='ignore')"
   ]
  },
  {
   "cell_type": "code",
   "execution_count": 8,
   "metadata": {
    "colab": {
     "base_uri": "https://localhost:8080/"
    },
    "id": "25vSzUhjcO8n",
    "outputId": "d0b40bbf-3b60-49c1-a0dc-e4d0b9c512d4"
   },
   "outputs": [
    {
     "data": {
      "text/plain": [
       "Index(['customer_id', 'review_id', 'product_id', 'product_title',\n",
       "       'star_rating', 'helpful_votes', 'total_votes', 'review_headline',\n",
       "       'review_date'],\n",
       "      dtype='object')"
      ]
     },
     "execution_count": 8,
     "metadata": {},
     "output_type": "execute_result"
    }
   ],
   "source": [
    "all_users_rating_df.columns"
   ]
  },
  {
   "cell_type": "code",
   "execution_count": 9,
   "metadata": {
    "colab": {
     "base_uri": "https://localhost:8080/"
    },
    "id": "vVAQCy4xJ8QT",
    "outputId": "3770b80d-ff8e-4b3b-e37b-d8e1d905ac6f"
   },
   "outputs": [
    {
     "name": "stdout",
     "output_type": "stream",
     "text": [
      "Distinct No. of Product 177618\n",
      "Distinct No. of Customers 232659\n"
     ]
    }
   ],
   "source": [
    "# Distinct No. of Product Title\n",
    "distinct_product_count = all_users_rating_df['product_title'].nunique()\n",
    "print(\"Distinct No. of Product\", distinct_product_count)\n",
    "\n",
    "# Distinct No. of Customers\n",
    "distinct_customer_count = all_users_rating_df['customer_id'].nunique()\n",
    "print(\"Distinct No. of Customers\", distinct_customer_count)"
   ]
  },
  {
   "cell_type": "code",
   "execution_count": 10,
   "metadata": {
    "colab": {
     "base_uri": "https://localhost:8080/",
     "height": 293
    },
    "collapsed": true,
    "id": "8032Avb6Mt_a",
    "outputId": "1386133d-8e97-41ae-ac73-818f07a1bfde"
   },
   "outputs": [
    {
     "data": {
      "text/html": [
       "<div>\n",
       "<style scoped>\n",
       "    .dataframe tbody tr th:only-of-type {\n",
       "        vertical-align: middle;\n",
       "    }\n",
       "\n",
       "    .dataframe tbody tr th {\n",
       "        vertical-align: top;\n",
       "    }\n",
       "\n",
       "    .dataframe thead th {\n",
       "        text-align: right;\n",
       "    }\n",
       "</style>\n",
       "<table border=\"1\" class=\"dataframe\">\n",
       "  <thead>\n",
       "    <tr style=\"text-align: right;\">\n",
       "      <th></th>\n",
       "      <th>customer_id</th>\n",
       "      <th>review_id</th>\n",
       "      <th>product_id</th>\n",
       "      <th>product_title</th>\n",
       "      <th>star_rating</th>\n",
       "      <th>helpful_votes</th>\n",
       "      <th>total_votes</th>\n",
       "      <th>review_headline</th>\n",
       "      <th>review_date</th>\n",
       "    </tr>\n",
       "  </thead>\n",
       "  <tbody>\n",
       "    <tr>\n",
       "      <th>3</th>\n",
       "      <td>50732546</td>\n",
       "      <td>RATOTLA3OF70O</td>\n",
       "      <td>0373836635</td>\n",
       "      <td>Colby Conspiracy (Colby Agency)</td>\n",
       "      <td>5.0</td>\n",
       "      <td>2.0</td>\n",
       "      <td>2.0</td>\n",
       "      <td>fine author on her A-game</td>\n",
       "      <td>2005-10-14</td>\n",
       "    </tr>\n",
       "    <tr>\n",
       "      <th>6</th>\n",
       "      <td>53000124</td>\n",
       "      <td>R1KJ6MB7MRSQFF</td>\n",
       "      <td>0805076069</td>\n",
       "      <td>Bait and Switch: The (Futile) Pursuit of the A...</td>\n",
       "      <td>4.0</td>\n",
       "      <td>9.0</td>\n",
       "      <td>11.0</td>\n",
       "      <td>I viewed this the opposite of Publisher's Week...</td>\n",
       "      <td>2005-10-14</td>\n",
       "    </tr>\n",
       "    <tr>\n",
       "      <th>12</th>\n",
       "      <td>27925116</td>\n",
       "      <td>R7M06Z88PD7SX</td>\n",
       "      <td>0029148510</td>\n",
       "      <td>Acts of War: Behavior of Men in Battle</td>\n",
       "      <td>4.0</td>\n",
       "      <td>14.0</td>\n",
       "      <td>14.0</td>\n",
       "      <td>Solid Book About Facing Death and Killing in War</td>\n",
       "      <td>2005-10-14</td>\n",
       "    </tr>\n",
       "    <tr>\n",
       "      <th>20</th>\n",
       "      <td>50732546</td>\n",
       "      <td>R17026W0TBFZGL</td>\n",
       "      <td>045121692X</td>\n",
       "      <td>The Last Heiress (Friarsgate Inheritance, Book 4)</td>\n",
       "      <td>5.0</td>\n",
       "      <td>1.0</td>\n",
       "      <td>2.0</td>\n",
       "      <td>superb historical romance</td>\n",
       "      <td>2005-10-14</td>\n",
       "    </tr>\n",
       "    <tr>\n",
       "      <th>32</th>\n",
       "      <td>41549714</td>\n",
       "      <td>R2W8C8DO33WTMP</td>\n",
       "      <td>0312853165</td>\n",
       "      <td>The Demon Princes, Vol. 2: The Face * The Book...</td>\n",
       "      <td>4.0</td>\n",
       "      <td>6.0</td>\n",
       "      <td>7.0</td>\n",
       "      <td>Fourth and Fifth Books of the Demon Princes Se...</td>\n",
       "      <td>2005-10-14</td>\n",
       "    </tr>\n",
       "  </tbody>\n",
       "</table>\n",
       "</div>"
      ],
      "text/plain": [
       "    customer_id       review_id  product_id  \\\n",
       "3      50732546   RATOTLA3OF70O  0373836635   \n",
       "6      53000124  R1KJ6MB7MRSQFF  0805076069   \n",
       "12     27925116   R7M06Z88PD7SX  0029148510   \n",
       "20     50732546  R17026W0TBFZGL  045121692X   \n",
       "32     41549714  R2W8C8DO33WTMP  0312853165   \n",
       "\n",
       "                                        product_title  star_rating  \\\n",
       "3                     Colby Conspiracy (Colby Agency)          5.0   \n",
       "6   Bait and Switch: The (Futile) Pursuit of the A...          4.0   \n",
       "12             Acts of War: Behavior of Men in Battle          4.0   \n",
       "20  The Last Heiress (Friarsgate Inheritance, Book 4)          5.0   \n",
       "32  The Demon Princes, Vol. 2: The Face * The Book...          4.0   \n",
       "\n",
       "    helpful_votes  total_votes  \\\n",
       "3             2.0          2.0   \n",
       "6             9.0         11.0   \n",
       "12           14.0         14.0   \n",
       "20            1.0          2.0   \n",
       "32            6.0          7.0   \n",
       "\n",
       "                                      review_headline review_date  \n",
       "3                           fine author on her A-game  2005-10-14  \n",
       "6   I viewed this the opposite of Publisher's Week...  2005-10-14  \n",
       "12   Solid Book About Facing Death and Killing in War  2005-10-14  \n",
       "20                          superb historical romance  2005-10-14  \n",
       "32  Fourth and Fifth Books of the Demon Princes Se...  2005-10-14  "
      ]
     },
     "execution_count": 10,
     "metadata": {},
     "output_type": "execute_result"
    }
   ],
   "source": [
    "# Create an df with all the customers having rating count >= 3\n",
    "\n",
    "# Group by customer_id and count the number of ratings for each customer\n",
    "customer_rating_counts = all_users_rating_df.groupby('customer_id')['star_rating'].count()\n",
    "\n",
    "# Filter the customer_rating_counts to include only customers with 3 or more ratings\n",
    "customers_with_at_least_3_ratings = customer_rating_counts[customer_rating_counts >= 3].index\n",
    "\n",
    "# Create a new DataFrame containing only the rows where the customer_id is in the customers_with_at_least_3_ratings list\n",
    "df_filtered_user_rating = all_users_rating_df[all_users_rating_df['customer_id'].isin(customers_with_at_least_3_ratings)]\n",
    "\n",
    "df_filtered_user_rating.head()"
   ]
  },
  {
   "cell_type": "code",
   "execution_count": 42,
   "metadata": {},
   "outputs": [
    {
     "data": {
      "text/plain": [
       "(20291,)"
      ]
     },
     "execution_count": 42,
     "metadata": {},
     "output_type": "execute_result"
    }
   ],
   "source": [
    "customers_with_at_least_3_ratings.shape"
   ]
  },
  {
   "cell_type": "code",
   "execution_count": null,
   "metadata": {},
   "outputs": [],
   "source": []
  },
  {
   "cell_type": "code",
   "execution_count": 11,
   "metadata": {
    "colab": {
     "base_uri": "https://localhost:8080/"
    },
    "id": "zetrCAbgcpy5",
    "outputId": "38480fa6-6bda-4996-aa2e-6789d7b0c4e9"
   },
   "outputs": [
    {
     "data": {
      "text/plain": [
       "(172430, 9)"
      ]
     },
     "execution_count": 11,
     "metadata": {},
     "output_type": "execute_result"
    }
   ],
   "source": [
    "df_filtered_user_rating.shape"
   ]
  },
  {
   "cell_type": "code",
   "execution_count": 12,
   "metadata": {
    "id": "W2dAbavWWReb"
   },
   "outputs": [],
   "source": [
    "# Remove the review with no helpful upvote\n",
    "df_filtered_user_rating = df_filtered_user_rating[df_filtered_user_rating['helpful_votes'] < 1]"
   ]
  },
  {
   "cell_type": "code",
   "execution_count": 13,
   "metadata": {
    "colab": {
     "base_uri": "https://localhost:8080/"
    },
    "id": "_VCH0hYWXSQ9",
    "outputId": "5174d917-ec0a-4a41-ed9e-0a2747d66481"
   },
   "outputs": [
    {
     "data": {
      "text/plain": [
       "(17654, 9)"
      ]
     },
     "execution_count": 13,
     "metadata": {},
     "output_type": "execute_result"
    }
   ],
   "source": [
    "df_filtered_user_rating.shape"
   ]
  },
  {
   "cell_type": "code",
   "execution_count": 14,
   "metadata": {
    "colab": {
     "base_uri": "https://localhost:8080/"
    },
    "id": "1A2azQmFOFX9",
    "outputId": "2257bca3-2f25-4e94-ba2a-3673818f7072"
   },
   "outputs": [
    {
     "name": "stdout",
     "output_type": "stream",
     "text": [
      "Distinct no. of Product 13676\n",
      "Distinct no. of Customers 7159\n",
      "Distinct no. of reviews 17654\n"
     ]
    }
   ],
   "source": [
    "# Distinct No. of Product(Book) after filtering\n",
    "distinct_product_count = df_filtered_user_rating['product_title'].nunique()\n",
    "print(\"Distinct no. of Product\", distinct_product_count)\n",
    "\n",
    "# Distinct No. of Customers after filtering\n",
    "distinct_customer_count = df_filtered_user_rating['customer_id'].nunique()\n",
    "print(\"Distinct no. of Customers\", distinct_customer_count)\n",
    "\n",
    "# Distinct No. of reviews after filtering\n",
    "distinct_review_count = df_filtered_user_rating['review_id'].nunique()\n",
    "print(\"Distinct no. of reviews\", distinct_review_count)"
   ]
  },
  {
   "cell_type": "code",
   "execution_count": 15,
   "metadata": {
    "colab": {
     "base_uri": "https://localhost:8080/",
     "height": 225
    },
    "id": "pvlbQ18HXwFW",
    "outputId": "00ad59a2-e711-48dc-90b5-6473eda5b33b"
   },
   "outputs": [
    {
     "name": "stdout",
     "output_type": "stream",
     "text": [
      "Shape of df_filtered_books:  (13944, 2)\n"
     ]
    },
    {
     "data": {
      "text/html": [
       "<div>\n",
       "<style scoped>\n",
       "    .dataframe tbody tr th:only-of-type {\n",
       "        vertical-align: middle;\n",
       "    }\n",
       "\n",
       "    .dataframe tbody tr th {\n",
       "        vertical-align: top;\n",
       "    }\n",
       "\n",
       "    .dataframe thead th {\n",
       "        text-align: right;\n",
       "    }\n",
       "</style>\n",
       "<table border=\"1\" class=\"dataframe\">\n",
       "  <thead>\n",
       "    <tr style=\"text-align: right;\">\n",
       "      <th></th>\n",
       "      <th>product_id</th>\n",
       "      <th>product_title</th>\n",
       "    </tr>\n",
       "  </thead>\n",
       "  <tbody>\n",
       "    <tr>\n",
       "      <th>49</th>\n",
       "      <td>0373513194</td>\n",
       "      <td>Kiss of the Blue Dragon (Silhouette Bombshell)</td>\n",
       "    </tr>\n",
       "    <tr>\n",
       "      <th>189</th>\n",
       "      <td>1410202984</td>\n",
       "      <td>Dahcotah: Life and Legends of the Sioux</td>\n",
       "    </tr>\n",
       "    <tr>\n",
       "      <th>220</th>\n",
       "      <td>0816524718</td>\n",
       "      <td>Navajo Nation Peacemaking: Living Traditional ...</td>\n",
       "    </tr>\n",
       "    <tr>\n",
       "      <th>255</th>\n",
       "      <td>1591160529</td>\n",
       "      <td>Inuyasha, Volume 5</td>\n",
       "    </tr>\n",
       "    <tr>\n",
       "      <th>277</th>\n",
       "      <td>1571781838</td>\n",
       "      <td>Love Made Visible</td>\n",
       "    </tr>\n",
       "  </tbody>\n",
       "</table>\n",
       "</div>"
      ],
      "text/plain": [
       "     product_id                                      product_title\n",
       "49   0373513194     Kiss of the Blue Dragon (Silhouette Bombshell)\n",
       "189  1410202984            Dahcotah: Life and Legends of the Sioux\n",
       "220  0816524718  Navajo Nation Peacemaking: Living Traditional ...\n",
       "255  1591160529                                 Inuyasha, Volume 5\n",
       "277  1571781838                                  Love Made Visible"
      ]
     },
     "execution_count": 15,
     "metadata": {},
     "output_type": "execute_result"
    }
   ],
   "source": [
    "df_filtered_books = df_filtered_user_rating[['product_id', 'product_title']].drop_duplicates()\n",
    "print('Shape of df_filtered_books: ', df_filtered_books.shape)\n",
    "df_filtered_books.head()"
   ]
  },
  {
   "cell_type": "code",
   "execution_count": 31,
   "metadata": {
    "colab": {
     "base_uri": "https://localhost:8080/",
     "height": 17
    },
    "id": "WZPjiZ2nj6RG",
    "outputId": "414cbbde-41c6-4c28-8373-97ad14103de1"
   },
   "outputs": [],
   "source": [
    "import io\n",
    "#from google.colab import files # Importing the necessary module\n",
    "\n",
    "# Convert the DataFrame to CSV format and save it to a file\n",
    "# Saving the dataframe to a csv file first\n",
    "df_filtered_user_rating.to_csv('filtered_user_rating.csv', index=False)\n",
    "\n",
    "# Download the file to local system - needed 03-EDA-Step\n",
    "#files.download('filtered_user_rating.csv')"
   ]
  },
  {
   "cell_type": "code",
   "execution_count": 43,
   "metadata": {
    "colab": {
     "base_uri": "https://localhost:8080/",
     "height": 17
    },
    "id": "Cal-iMa3aU_e",
    "outputId": "1eef28a2-68d6-4e78-b408-db59dc11a7ab"
   },
   "outputs": [],
   "source": [
    "import io\n",
    "#from google.colab import files # Importing the necessary module\n",
    "\n",
    "# Convert the DataFrame to CSV format and save it to a file\n",
    "# Saving the dataframe to a csv file first\n",
    "df_filtered_books.to_csv('filtered_books_data.csv', index=False)\n",
    "\n",
    "# Download the file to local system - needed 03-EDA-Step\n",
    "#files.download('filtered_books_data.csv')"
   ]
  },
  {
   "cell_type": "markdown",
   "metadata": {
    "id": "BWecWf6jfTyS"
   },
   "source": [
    "Download book metadata from source"
   ]
  },
  {
   "cell_type": "code",
   "execution_count": 44,
   "metadata": {
    "colab": {
     "base_uri": "https://localhost:8080/",
     "height": 36
    },
    "id": "oZlf51_nQoGW",
    "outputId": "6ce46c3d-7a67-4797-d884-fc94ebb7543f"
   },
   "outputs": [
    {
     "data": {
      "text/plain": [
       "'Books_metadata.csv'"
      ]
     },
     "execution_count": 44,
     "metadata": {},
     "output_type": "execute_result"
    }
   ],
   "source": [
    "from onedrivedownloader import download\n",
    "\n",
    "# Main dataset is kept here\n",
    "onedrive_link = \"https://indianinstituteofscience-my.sharepoint.com/:x:/g/personal/rishavg_iisc_ac_in/EdVMAFu4QJxAnyv3U4Bryx0BGPQT1ZzDKe4CftC6NmhnBQ?e=elTH2h\"\n",
    "\n",
    "# Extract the file ID from the OneDrive link - not needed for current download method\n",
    "file_id = onedrive_link.split('/')[-1]  # Assuming the file ID is the last part of the URL\n",
    "\n",
    "# Download the file using the download function\n",
    "# filename should be provided and the file will be automatically saved, you can directly input your local path\n",
    "download(onedrive_link, filename=\"Books_metadata.csv\")"
   ]
  },
  {
   "cell_type": "code",
   "execution_count": 19,
   "metadata": {
    "colab": {
     "base_uri": "https://localhost:8080/"
    },
    "id": "3uCAyrVSRA4t",
    "outputId": "f5e9f907-9ccb-4bc3-8a13-00fe46dd0453"
   },
   "outputs": [
    {
     "name": "stdout",
     "output_type": "stream",
     "text": [
      "<class 'pandas.core.frame.DataFrame'>\n",
      "RangeIndex: 1070 entries, 0 to 1069\n",
      "Data columns (total 15 columns):\n",
      " #   Column               Non-Null Count  Dtype  \n",
      "---  ------               --------------  -----  \n",
      " 0   index                1070 non-null   int64  \n",
      " 1   Publishing Year      1069 non-null   float64\n",
      " 2   Book Name            1047 non-null   object \n",
      " 3   Author               1070 non-null   object \n",
      " 4   language_code        1017 non-null   object \n",
      " 5   Author_Rating        1070 non-null   object \n",
      " 6   Book_average_rating  1070 non-null   float64\n",
      " 7   Book_ratings_count   1070 non-null   int64  \n",
      " 8   genre                1070 non-null   object \n",
      " 9   gross sales          1070 non-null   float64\n",
      " 10  publisher revenue    1070 non-null   float64\n",
      " 11  sale price           1070 non-null   float64\n",
      " 12  sales rank           1070 non-null   int64  \n",
      " 13  Publisher            1070 non-null   object \n",
      " 14  units sold           1070 non-null   int64  \n",
      "dtypes: float64(5), int64(4), object(6)\n",
      "memory usage: 125.5+ KB\n"
     ]
    }
   ],
   "source": [
    "import pandas as pd\n",
    "\n",
    "# Assuming 'Books_Data_Clean.csv' is in the current working directory\n",
    "books_metadata_df = pd.read_csv('Books_metadata.csv')\n",
    "\n",
    "# Print some info about the DataFrame\n",
    "books_metadata_df.info()"
   ]
  },
  {
   "cell_type": "code",
   "execution_count": 20,
   "metadata": {
    "colab": {
     "base_uri": "https://localhost:8080/",
     "height": 488
    },
    "id": "TCv2NAXJf9L4",
    "outputId": "df010b28-1307-41b0-cf58-995ecaa15fb3"
   },
   "outputs": [
    {
     "name": "stdout",
     "output_type": "stream",
     "text": [
      "Shape of books_metadata_df:  (1070, 15)\n"
     ]
    }
   ],
   "source": [
    "print('Shape of books_metadata_df: ', books_metadata_df.shape)"
   ]
  },
  {
   "cell_type": "code",
   "execution_count": 21,
   "metadata": {
    "colab": {
     "base_uri": "https://localhost:8080/",
     "height": 469
    },
    "id": "nTSjPR3ki0QR",
    "outputId": "e76e2ef3-7224-4a8d-a5e0-c35650a2bae7"
   },
   "outputs": [
    {
     "data": {
      "text/html": [
       "<div>\n",
       "<style scoped>\n",
       "    .dataframe tbody tr th:only-of-type {\n",
       "        vertical-align: middle;\n",
       "    }\n",
       "\n",
       "    .dataframe tbody tr th {\n",
       "        vertical-align: top;\n",
       "    }\n",
       "\n",
       "    .dataframe thead th {\n",
       "        text-align: right;\n",
       "    }\n",
       "</style>\n",
       "<table border=\"1\" class=\"dataframe\">\n",
       "  <thead>\n",
       "    <tr style=\"text-align: right;\">\n",
       "      <th></th>\n",
       "      <th>index</th>\n",
       "      <th>Publishing Year</th>\n",
       "      <th>Book Name</th>\n",
       "      <th>Author</th>\n",
       "      <th>language_code</th>\n",
       "      <th>Author_Rating</th>\n",
       "      <th>Book_average_rating</th>\n",
       "      <th>Book_ratings_count</th>\n",
       "      <th>genre</th>\n",
       "      <th>gross sales</th>\n",
       "      <th>publisher revenue</th>\n",
       "      <th>sale price</th>\n",
       "      <th>sales rank</th>\n",
       "      <th>Publisher</th>\n",
       "      <th>units sold</th>\n",
       "    </tr>\n",
       "  </thead>\n",
       "  <tbody>\n",
       "    <tr>\n",
       "      <th>0</th>\n",
       "      <td>0</td>\n",
       "      <td>1975.0</td>\n",
       "      <td>Beowulf</td>\n",
       "      <td>Unknown, Seamus Heaney</td>\n",
       "      <td>en-US</td>\n",
       "      <td>Novice</td>\n",
       "      <td>3.42</td>\n",
       "      <td>155903</td>\n",
       "      <td>genre fiction</td>\n",
       "      <td>34160.0</td>\n",
       "      <td>20496.0</td>\n",
       "      <td>4.88</td>\n",
       "      <td>1</td>\n",
       "      <td>HarperCollins Publishers</td>\n",
       "      <td>7000</td>\n",
       "    </tr>\n",
       "    <tr>\n",
       "      <th>1</th>\n",
       "      <td>1</td>\n",
       "      <td>1987.0</td>\n",
       "      <td>Batman: Year One</td>\n",
       "      <td>Frank Miller, David Mazzucchelli, Richmond Lew...</td>\n",
       "      <td>eng</td>\n",
       "      <td>Intermediate</td>\n",
       "      <td>4.23</td>\n",
       "      <td>145267</td>\n",
       "      <td>genre fiction</td>\n",
       "      <td>12437.5</td>\n",
       "      <td>7462.5</td>\n",
       "      <td>1.99</td>\n",
       "      <td>2</td>\n",
       "      <td>HarperCollins Publishers</td>\n",
       "      <td>6250</td>\n",
       "    </tr>\n",
       "    <tr>\n",
       "      <th>2</th>\n",
       "      <td>2</td>\n",
       "      <td>2015.0</td>\n",
       "      <td>Go Set a Watchman</td>\n",
       "      <td>Harper Lee</td>\n",
       "      <td>eng</td>\n",
       "      <td>Novice</td>\n",
       "      <td>3.31</td>\n",
       "      <td>138669</td>\n",
       "      <td>genre fiction</td>\n",
       "      <td>47795.0</td>\n",
       "      <td>28677.0</td>\n",
       "      <td>8.69</td>\n",
       "      <td>3</td>\n",
       "      <td>Amazon Digital Services,  Inc.</td>\n",
       "      <td>5500</td>\n",
       "    </tr>\n",
       "    <tr>\n",
       "      <th>3</th>\n",
       "      <td>3</td>\n",
       "      <td>2008.0</td>\n",
       "      <td>When You Are Engulfed in Flames</td>\n",
       "      <td>David Sedaris</td>\n",
       "      <td>en-US</td>\n",
       "      <td>Intermediate</td>\n",
       "      <td>4.04</td>\n",
       "      <td>150898</td>\n",
       "      <td>fiction</td>\n",
       "      <td>41250.0</td>\n",
       "      <td>24750.0</td>\n",
       "      <td>7.50</td>\n",
       "      <td>3</td>\n",
       "      <td>Hachette Book Group</td>\n",
       "      <td>5500</td>\n",
       "    </tr>\n",
       "    <tr>\n",
       "      <th>4</th>\n",
       "      <td>4</td>\n",
       "      <td>2011.0</td>\n",
       "      <td>Daughter of Smoke &amp; Bone</td>\n",
       "      <td>Laini Taylor</td>\n",
       "      <td>eng</td>\n",
       "      <td>Intermediate</td>\n",
       "      <td>4.04</td>\n",
       "      <td>198283</td>\n",
       "      <td>genre fiction</td>\n",
       "      <td>37952.5</td>\n",
       "      <td>22771.5</td>\n",
       "      <td>7.99</td>\n",
       "      <td>4</td>\n",
       "      <td>Penguin Group (USA) LLC</td>\n",
       "      <td>4750</td>\n",
       "    </tr>\n",
       "  </tbody>\n",
       "</table>\n",
       "</div>"
      ],
      "text/plain": [
       "   index  Publishing Year                        Book Name  \\\n",
       "0      0           1975.0                          Beowulf   \n",
       "1      1           1987.0                 Batman: Year One   \n",
       "2      2           2015.0                Go Set a Watchman   \n",
       "3      3           2008.0  When You Are Engulfed in Flames   \n",
       "4      4           2011.0         Daughter of Smoke & Bone   \n",
       "\n",
       "                                              Author language_code  \\\n",
       "0                             Unknown, Seamus Heaney         en-US   \n",
       "1  Frank Miller, David Mazzucchelli, Richmond Lew...           eng   \n",
       "2                                         Harper Lee           eng   \n",
       "3                                      David Sedaris         en-US   \n",
       "4                                       Laini Taylor           eng   \n",
       "\n",
       "  Author_Rating  Book_average_rating  Book_ratings_count          genre  \\\n",
       "0        Novice                 3.42              155903  genre fiction   \n",
       "1  Intermediate                 4.23              145267  genre fiction   \n",
       "2        Novice                 3.31              138669  genre fiction   \n",
       "3  Intermediate                 4.04              150898        fiction   \n",
       "4  Intermediate                 4.04              198283  genre fiction   \n",
       "\n",
       "   gross sales  publisher revenue  sale price  sales rank  \\\n",
       "0      34160.0            20496.0        4.88           1   \n",
       "1      12437.5             7462.5        1.99           2   \n",
       "2      47795.0            28677.0        8.69           3   \n",
       "3      41250.0            24750.0        7.50           3   \n",
       "4      37952.5            22771.5        7.99           4   \n",
       "\n",
       "                       Publisher   units sold  \n",
       "0        HarperCollins Publishers        7000  \n",
       "1        HarperCollins Publishers        6250  \n",
       "2  Amazon Digital Services,  Inc.        5500  \n",
       "3             Hachette Book Group        5500  \n",
       "4         Penguin Group (USA) LLC        4750  "
      ]
     },
     "execution_count": 21,
     "metadata": {},
     "output_type": "execute_result"
    }
   ],
   "source": [
    "books_metadata_df.head()"
   ]
  },
  {
   "cell_type": "code",
   "execution_count": 22,
   "metadata": {
    "colab": {
     "base_uri": "https://localhost:8080/"
    },
    "id": "XSvXFWAZUUNG",
    "outputId": "bb31f6eb-dfa1-4843-cab1-8e0c27342800"
   },
   "outputs": [
    {
     "name": "stdout",
     "output_type": "stream",
     "text": [
      "Shape of merged_user_rating_book_df:  (351, 24)\n"
     ]
    }
   ],
   "source": [
    "# Merge books_entity_df and book_df based on 'Book Name'\n",
    "merged_user_rating_book_df = pd.merge(books_metadata_df, df_filtered_user_rating, left_on='Book Name', right_on='product_title', how='inner')\n",
    "\n",
    "print('Shape of merged_user_rating_book_df: ', merged_user_rating_book_df.shape)"
   ]
  },
  {
   "cell_type": "code",
   "execution_count": 23,
   "metadata": {
    "colab": {
     "base_uri": "https://localhost:8080/",
     "height": 586
    },
    "id": "V9pC425hgVEB",
    "outputId": "42beca1c-82af-45f5-a749-dba56fdf82a1"
   },
   "outputs": [
    {
     "data": {
      "text/html": [
       "<div>\n",
       "<style scoped>\n",
       "    .dataframe tbody tr th:only-of-type {\n",
       "        vertical-align: middle;\n",
       "    }\n",
       "\n",
       "    .dataframe tbody tr th {\n",
       "        vertical-align: top;\n",
       "    }\n",
       "\n",
       "    .dataframe thead th {\n",
       "        text-align: right;\n",
       "    }\n",
       "</style>\n",
       "<table border=\"1\" class=\"dataframe\">\n",
       "  <thead>\n",
       "    <tr style=\"text-align: right;\">\n",
       "      <th></th>\n",
       "      <th>index</th>\n",
       "      <th>Publishing Year</th>\n",
       "      <th>Book Name</th>\n",
       "      <th>Author</th>\n",
       "      <th>language_code</th>\n",
       "      <th>Author_Rating</th>\n",
       "      <th>Book_average_rating</th>\n",
       "      <th>Book_ratings_count</th>\n",
       "      <th>genre</th>\n",
       "      <th>gross sales</th>\n",
       "      <th>...</th>\n",
       "      <th>units sold</th>\n",
       "      <th>customer_id</th>\n",
       "      <th>review_id</th>\n",
       "      <th>product_id</th>\n",
       "      <th>product_title</th>\n",
       "      <th>star_rating</th>\n",
       "      <th>helpful_votes</th>\n",
       "      <th>total_votes</th>\n",
       "      <th>review_headline</th>\n",
       "      <th>review_date</th>\n",
       "    </tr>\n",
       "  </thead>\n",
       "  <tbody>\n",
       "    <tr>\n",
       "      <th>0</th>\n",
       "      <td>21</td>\n",
       "      <td>2000.0</td>\n",
       "      <td>The Rescue</td>\n",
       "      <td>Nicholas Sparks</td>\n",
       "      <td>en-US</td>\n",
       "      <td>Intermediate</td>\n",
       "      <td>4.10</td>\n",
       "      <td>142092</td>\n",
       "      <td>genre fiction</td>\n",
       "      <td>8569.34</td>\n",
       "      <td>...</td>\n",
       "      <td>2866</td>\n",
       "      <td>40817134</td>\n",
       "      <td>R1UJ7781YB4INE</td>\n",
       "      <td>0446610399</td>\n",
       "      <td>The Rescue</td>\n",
       "      <td>4.0</td>\n",
       "      <td>0.0</td>\n",
       "      <td>0.0</td>\n",
       "      <td>Loved it! Much better than I had anticipated</td>\n",
       "      <td>2005-08-24</td>\n",
       "    </tr>\n",
       "    <tr>\n",
       "      <th>1</th>\n",
       "      <td>21</td>\n",
       "      <td>2000.0</td>\n",
       "      <td>The Rescue</td>\n",
       "      <td>Nicholas Sparks</td>\n",
       "      <td>en-US</td>\n",
       "      <td>Intermediate</td>\n",
       "      <td>4.10</td>\n",
       "      <td>142092</td>\n",
       "      <td>genre fiction</td>\n",
       "      <td>8569.34</td>\n",
       "      <td>...</td>\n",
       "      <td>2866</td>\n",
       "      <td>14818676</td>\n",
       "      <td>R3LHUCZXAKE40D</td>\n",
       "      <td>0446610399</td>\n",
       "      <td>The Rescue</td>\n",
       "      <td>4.0</td>\n",
       "      <td>0.0</td>\n",
       "      <td>2.0</td>\n",
       "      <td>This was a pretty good book</td>\n",
       "      <td>2005-01-21</td>\n",
       "    </tr>\n",
       "    <tr>\n",
       "      <th>2</th>\n",
       "      <td>26</td>\n",
       "      <td>1993.0</td>\n",
       "      <td>The Virgin Suicides</td>\n",
       "      <td>Jeffrey Eugenides</td>\n",
       "      <td>eng</td>\n",
       "      <td>Intermediate</td>\n",
       "      <td>3.83</td>\n",
       "      <td>159249</td>\n",
       "      <td>genre fiction</td>\n",
       "      <td>26904.06</td>\n",
       "      <td>...</td>\n",
       "      <td>2466</td>\n",
       "      <td>13920601</td>\n",
       "      <td>R2GYAKQFEOF3L5</td>\n",
       "      <td>0446670251</td>\n",
       "      <td>The Virgin Suicides</td>\n",
       "      <td>4.0</td>\n",
       "      <td>0.0</td>\n",
       "      <td>2.0</td>\n",
       "      <td>Disturbing, yet mysterious</td>\n",
       "      <td>2005-09-02</td>\n",
       "    </tr>\n",
       "    <tr>\n",
       "      <th>3</th>\n",
       "      <td>26</td>\n",
       "      <td>1993.0</td>\n",
       "      <td>The Virgin Suicides</td>\n",
       "      <td>Jeffrey Eugenides</td>\n",
       "      <td>eng</td>\n",
       "      <td>Intermediate</td>\n",
       "      <td>3.83</td>\n",
       "      <td>159249</td>\n",
       "      <td>genre fiction</td>\n",
       "      <td>26904.06</td>\n",
       "      <td>...</td>\n",
       "      <td>2466</td>\n",
       "      <td>51244189</td>\n",
       "      <td>R2LWLH1O0RECZN</td>\n",
       "      <td>0446670251</td>\n",
       "      <td>The Virgin Suicides</td>\n",
       "      <td>5.0</td>\n",
       "      <td>0.0</td>\n",
       "      <td>0.0</td>\n",
       "      <td>Well-written from an interesting perspective</td>\n",
       "      <td>2005-04-19</td>\n",
       "    </tr>\n",
       "    <tr>\n",
       "      <th>4</th>\n",
       "      <td>26</td>\n",
       "      <td>1993.0</td>\n",
       "      <td>The Virgin Suicides</td>\n",
       "      <td>Jeffrey Eugenides</td>\n",
       "      <td>eng</td>\n",
       "      <td>Intermediate</td>\n",
       "      <td>3.83</td>\n",
       "      <td>159249</td>\n",
       "      <td>genre fiction</td>\n",
       "      <td>26904.06</td>\n",
       "      <td>...</td>\n",
       "      <td>2466</td>\n",
       "      <td>52473350</td>\n",
       "      <td>R1I5PAXUMD1APY</td>\n",
       "      <td>0446670251</td>\n",
       "      <td>The Virgin Suicides</td>\n",
       "      <td>4.0</td>\n",
       "      <td>0.0</td>\n",
       "      <td>0.0</td>\n",
       "      <td>The Blacker Side of Americana</td>\n",
       "      <td>2005-03-07</td>\n",
       "    </tr>\n",
       "  </tbody>\n",
       "</table>\n",
       "<p>5 rows × 24 columns</p>\n",
       "</div>"
      ],
      "text/plain": [
       "   index  Publishing Year            Book Name             Author  \\\n",
       "0     21           2000.0           The Rescue    Nicholas Sparks   \n",
       "1     21           2000.0           The Rescue    Nicholas Sparks   \n",
       "2     26           1993.0  The Virgin Suicides  Jeffrey Eugenides   \n",
       "3     26           1993.0  The Virgin Suicides  Jeffrey Eugenides   \n",
       "4     26           1993.0  The Virgin Suicides  Jeffrey Eugenides   \n",
       "\n",
       "  language_code Author_Rating  Book_average_rating  Book_ratings_count  \\\n",
       "0         en-US  Intermediate                 4.10              142092   \n",
       "1         en-US  Intermediate                 4.10              142092   \n",
       "2           eng  Intermediate                 3.83              159249   \n",
       "3           eng  Intermediate                 3.83              159249   \n",
       "4           eng  Intermediate                 3.83              159249   \n",
       "\n",
       "           genre  gross sales  ...  units sold  customer_id       review_id  \\\n",
       "0  genre fiction      8569.34  ...        2866     40817134  R1UJ7781YB4INE   \n",
       "1  genre fiction      8569.34  ...        2866     14818676  R3LHUCZXAKE40D   \n",
       "2  genre fiction     26904.06  ...        2466     13920601  R2GYAKQFEOF3L5   \n",
       "3  genre fiction     26904.06  ...        2466     51244189  R2LWLH1O0RECZN   \n",
       "4  genre fiction     26904.06  ...        2466     52473350  R1I5PAXUMD1APY   \n",
       "\n",
       "   product_id        product_title  star_rating helpful_votes total_votes  \\\n",
       "0  0446610399           The Rescue          4.0           0.0         0.0   \n",
       "1  0446610399           The Rescue          4.0           0.0         2.0   \n",
       "2  0446670251  The Virgin Suicides          4.0           0.0         2.0   \n",
       "3  0446670251  The Virgin Suicides          5.0           0.0         0.0   \n",
       "4  0446670251  The Virgin Suicides          4.0           0.0         0.0   \n",
       "\n",
       "                                review_headline  review_date  \n",
       "0  Loved it! Much better than I had anticipated   2005-08-24  \n",
       "1                   This was a pretty good book   2005-01-21  \n",
       "2                    Disturbing, yet mysterious   2005-09-02  \n",
       "3  Well-written from an interesting perspective   2005-04-19  \n",
       "4                 The Blacker Side of Americana   2005-03-07  \n",
       "\n",
       "[5 rows x 24 columns]"
      ]
     },
     "execution_count": 23,
     "metadata": {},
     "output_type": "execute_result"
    }
   ],
   "source": [
    "# Print the merged DataFrame\n",
    "merged_user_rating_book_df.head()"
   ]
  },
  {
   "cell_type": "code",
   "execution_count": 45,
   "metadata": {
    "colab": {
     "base_uri": "https://localhost:8080/"
    },
    "id": "kWJC060OS9ZL",
    "outputId": "50621a29-1cea-475a-8485-8f5cfb7936f4"
   },
   "outputs": [
    {
     "name": "stdout",
     "output_type": "stream",
     "text": [
      "Distinct No. of Product 134\n",
      "Distinct No. of Customers 326\n"
     ]
    }
   ],
   "source": [
    "# Distinct No. of Product(Book) after filtering\n",
    "distinct_product_count = merged_user_rating_book_df['product_title'].nunique()\n",
    "print(\"Distinct No. of Product\", distinct_product_count)\n",
    "\n",
    "# Distinct No. of Customers after filtering\n",
    "distinct_customer_count = merged_user_rating_book_df['customer_id'].nunique()\n",
    "print(\"Distinct No. of Customers\", distinct_customer_count)"
   ]
  },
  {
   "cell_type": "code",
   "execution_count": null,
   "metadata": {},
   "outputs": [],
   "source": []
  },
  {
   "cell_type": "code",
   "execution_count": null,
   "metadata": {},
   "outputs": [],
   "source": []
  },
  {
   "cell_type": "code",
   "execution_count": null,
   "metadata": {},
   "outputs": [],
   "source": []
  }
 ],
 "metadata": {
  "colab": {
   "provenance": []
  },
  "kernelspec": {
   "display_name": "Python 3",
   "name": "python3"
  },
  "language_info": {
   "codemirror_mode": {
    "name": "ipython",
    "version": 3
   },
   "file_extension": ".py",
   "mimetype": "text/x-python",
   "name": "python",
   "nbconvert_exporter": "python",
   "pygments_lexer": "ipython3",
   "version": "3.13.0"
  }
 },
 "nbformat": 4,
 "nbformat_minor": 0
}
